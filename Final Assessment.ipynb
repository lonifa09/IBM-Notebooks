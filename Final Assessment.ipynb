{
    "cells": [
        {
            "cell_type": "markdown",
            "metadata": {},
            "source": "<p style=\"\">\n    <a href=\"https://skills.network\" target=\"_blank\">\n    <img src=\"https://cf-courses-data.s3.us.cloud-object-storage.appdomain.cloud/assets/logos/SN_web_lightmode.png\" width=\"200\" alt=\"Skills Network Logo\">\n    </a>\n</p>\n"
        },
        {
            "cell_type": "markdown",
            "metadata": {},
            "source": "# **Web Scraping Lab**\n"
        },
        {
            "cell_type": "markdown",
            "metadata": {},
            "source": "Estimated time needed: **30** minutes\n"
        },
        {
            "cell_type": "markdown",
            "metadata": {},
            "source": "## Objectives\n"
        },
        {
            "cell_type": "markdown",
            "metadata": {},
            "source": "After completing this lab you will be able to:\n"
        },
        {
            "cell_type": "markdown",
            "metadata": {},
            "source": "<h2>Table of Contents</h2>\n<div class=\"alert alert-block alert-info\" style=\"\">\n    <ul>\n        <li>\n            <a href=\"https://bso/?utm_medium=Exinfluencer&amp;utm_source=Exinfluencer&amp;utm_content=000026UJ&amp;utm_term=10006555&amp;utm_id=NA-SkillsNetwork-Channel-SkillsNetworkCoursesIBMDeveloperSkillsNetworkPY0220ENSkillsNetwork23455606-2021-01-01\">Beautiful Soup Object</a>\n            <ul>\n                <li>Tag</li>\n                <li>Children, Parents, and Siblings</li>\n                <li>HTML Attributes</li>\n                <li>Navigable String</li>\n            </ul>\n        </li>\n     </ul>\n    <ul>\n        <li>\n            <a href=\"https://filter/?utm_medium=Exinfluencer&amp;utm_source=Exinfluencer&amp;utm_content=000026UJ&amp;utm_term=10006555&amp;utm_id=NA-SkillsNetwork-Channel-SkillsNetworkCoursesIBMDeveloperSkillsNetworkPY0220ENSkillsNetwork23455606-2021-01-01\">Filter</a>\n            <ul>\n                <li>find All</li>\n                <li>find </li>\n                <li>HTML Attributes</li>\n                <li>Navigable String</li>\n            </ul>\n        </li>\n     </ul>\n     <ul>\n        <li>\n            <a href=\"https://dscw/?utm_medium=Exinfluencer&amp;utm_source=Exinfluencer&amp;utm_content=000026UJ&amp;utm_term=10006555&amp;utm_id=NA-SkillsNetwork-Channel-SkillsNetworkCoursesIBMDeveloperSkillsNetworkPY0220ENSkillsNetwork23455606-2021-01-01\">Downloading And Scraping The Contents Of A Web</a>\n    </li>\n         </ul>\n    <p>\n        Estimated time needed: <strong>25 min</strong>\n    </p>\n\n</div>\n\n<hr>\n"
        },
        {
            "cell_type": "markdown",
            "metadata": {},
            "source": "For this lab, we are going to be using Python and several Python libraries. Some of these libraries might be installed in your lab environment or in SN Labs. Others may need to be installed by you. The cells below will install these libraries when executed.\n"
        },
        {
            "cell_type": "code",
            "execution_count": 1,
            "metadata": {
                "id": "3ef54c78-2ba2-4a2e-98fe-c1c8012096b2"
            },
            "outputs": [
                {
                    "name": "stdout",
                    "output_type": "stream",
                    "text": "\nLooking for: ['bs4==4.10.0']\n\n\u001b[?25l\u001b[2K\u001b[0G\u001b[?25h\u001b[?25l\u001b[2K\u001b[0Gopt/ibm/custom-channels/meta-wscloud/linux-64 (c.. Checked  0.0s\n\u001b[?25h\u001b[?25l\u001b[2K\u001b[0Gopt/ibm/custom-channels/meta-wscloud/noarch (che.. Checked  0.0s\n[+] 0.0s\n\u001b[2K\u001b[1A\u001b[2K\u001b[0Gopt/ibm/custom-channels/placebo-20240711/placebo.. Checked  0.0s\n\u001b[?25h\u001b[?25l\u001b[2K\u001b[0G[+] 0.0s\n\u001b[2K\u001b[1A\u001b[2K\u001b[0Gopt/ibm/custom-channels/placebo-20240711/placebo.. Checked  0.0s\n\u001b[?25h\u001b[?25l\u001b[2K\u001b[0G[+] 0.0s\n\u001b[2K\u001b[1A\u001b[2K\u001b[0Gpkgs/main/linux-64 (check zst)                     Checked  0.1s\n\u001b[?25h\u001b[?25l\u001b[2K\u001b[0G[+] 0.0s\npkgs/main/noarch (check zst) \u001b[33m\u2501\u2501\u2501\u2501\u2501\u2501\u2501\u2501\u2501\u2501\u2501\u2501\u2578\u001b[0m\u001b[90m\u2501\u2501\u2501\u001b[0m   0.0 B @  ??.?MB/s Checking  0.0s\u001b[2K\u001b[1A\u001b[2K\u001b[0Gpkgs/main/noarch (check zst)                        Checked  0.0s\n\u001b[?25h\u001b[?25l\u001b[2K\u001b[0G[+] 0.0s\nopt/ibm/custom-channels/meta-wscloud/linux-64 \u001b[33m\u2501\u2501\u2501\u2501\u2501\u2501\u2501\u2501\u2578\u001b[0m\u001b[90m\u2501\u2501\u2501\u2501\u2501\u2501\u2501\u2501\u2501\u2501\u2501\u001b[0m   0.0 B  0.0s\u001b[2K\u001b[1A\u001b[2K\u001b[0Gopt/ibm/custom-channels/meta-wscloud/linux-64       0.0s\nopt/ibm/custom-channels/meta-wscloud/noarch          9.6kB @  87.8MB/s  0.0s\nopt/ibm/custom-channels/placebo-20240711/placebo..  ??.?MB @  ??.?MB/s 0 failed  0.0s\nopt/ibm/custom-channels/placebo-20240711/placebo..   2.1kB @  41.9MB/s  0.0s\npkgs/main/noarch                                   747.7kB @   9.6MB/s  0.1s\n[+] 0.1s\npkgs/main/linux-64 \u2501\u2501\u2501\u2501\u2578\u001b[90m\u2501\u2501\u2501\u2501\u2501\u2501\u2501\u2501\u2501\u2501\u2501\u2501\u2501\u2501\u2501\u2501\u2501\u2501\u2501\u2501\u001b[0m   1.8MB /   7.5MB @  34.6MB/s  0.1s\u001b[2K\u001b[1A\u001b[2K\u001b[0G[+] 0.2s\npkgs/main/linux-64 \u2501\u2501\u2501\u2501\u2501\u2501\u2501\u2501\u2501\u2501\u2501\u2501\u2501\u2578\u001b[90m\u2501\u2501\u2501\u2501\u2501\u2501\u2501\u2501\u2501\u2501\u2501\u001b[0m   4.5MB /   7.5MB @  43.9MB/s  0.2s\u001b[2K\u001b[1A\u001b[2K\u001b[0G[+] 0.3s\npkgs/main/linux-64 \u2501\u2501\u2501\u2501\u2501\u2501\u2501\u2501\u2501\u2501\u2501\u2501\u2501\u2578\u001b[90m\u2501\u2501\u2501\u2501\u2501\u2501\u2501\u2501\u2501\u2501\u2501\u001b[0m   4.5MB /   7.5MB @  43.9MB/s  0.3s\u001b[2K\u001b[1A\u001b[2K\u001b[0Gpkgs/main/linux-64                                   7.5MB @  54.3MB/s  0.3s\n\u001b[?25h\nPinned packages:\n  - python 3.11.*\n  - python 3.11.*\n  - jupyterlab_widgets 3.0.10.*\n  - widgetsnbextension 4.0.10.*\n\n\nTransaction\n\n  Prefix: /opt/conda/envs/Python-RT24.1\n\n  Updating specs:\n\n   - bs4==4.10.0\n   - ca-certificates\n   - certifi\n   - openssl\n\n\n  Package              Version  Build            Channel                                     Size\n\u2500\u2500\u2500\u2500\u2500\u2500\u2500\u2500\u2500\u2500\u2500\u2500\u2500\u2500\u2500\u2500\u2500\u2500\u2500\u2500\u2500\u2500\u2500\u2500\u2500\u2500\u2500\u2500\u2500\u2500\u2500\u2500\u2500\u2500\u2500\u2500\u2500\u2500\u2500\u2500\u2500\u2500\u2500\u2500\u2500\u2500\u2500\u2500\u2500\u2500\u2500\u2500\u2500\u2500\u2500\u2500\u2500\u2500\u2500\u2500\u2500\u2500\u2500\u2500\u2500\u2500\u2500\u2500\u2500\u2500\u2500\u2500\u2500\u2500\u2500\u2500\u2500\u2500\u2500\u2500\u2500\u2500\u2500\u2500\u2500\u2500\u2500\u2500\u2500\u2500\u2500\u2500\u2500\u2500\u2500\u2500\u2500\u2500\u2500\n  Install:\n\u2500\u2500\u2500\u2500\u2500\u2500\u2500\u2500\u2500\u2500\u2500\u2500\u2500\u2500\u2500\u2500\u2500\u2500\u2500\u2500\u2500\u2500\u2500\u2500\u2500\u2500\u2500\u2500\u2500\u2500\u2500\u2500\u2500\u2500\u2500\u2500\u2500\u2500\u2500\u2500\u2500\u2500\u2500\u2500\u2500\u2500\u2500\u2500\u2500\u2500\u2500\u2500\u2500\u2500\u2500\u2500\u2500\u2500\u2500\u2500\u2500\u2500\u2500\u2500\u2500\u2500\u2500\u2500\u2500\u2500\u2500\u2500\u2500\u2500\u2500\u2500\u2500\u2500\u2500\u2500\u2500\u2500\u2500\u2500\u2500\u2500\u2500\u2500\u2500\u2500\u2500\u2500\u2500\u2500\u2500\u2500\u2500\u2500\u2500\n\n  \u001b[32m+ bs4              \u001b[0m   4.10.0  hd3eb1b0_0       pkgs/main                                   10kB\n\n  Downgrade:\n\u2500\u2500\u2500\u2500\u2500\u2500\u2500\u2500\u2500\u2500\u2500\u2500\u2500\u2500\u2500\u2500\u2500\u2500\u2500\u2500\u2500\u2500\u2500\u2500\u2500\u2500\u2500\u2500\u2500\u2500\u2500\u2500\u2500\u2500\u2500\u2500\u2500\u2500\u2500\u2500\u2500\u2500\u2500\u2500\u2500\u2500\u2500\u2500\u2500\u2500\u2500\u2500\u2500\u2500\u2500\u2500\u2500\u2500\u2500\u2500\u2500\u2500\u2500\u2500\u2500\u2500\u2500\u2500\u2500\u2500\u2500\u2500\u2500\u2500\u2500\u2500\u2500\u2500\u2500\u2500\u2500\u2500\u2500\u2500\u2500\u2500\u2500\u2500\u2500\u2500\u2500\u2500\u2500\u2500\u2500\u2500\u2500\u2500\u2500\n\n  \u001b[31m- beautifulsoup4   \u001b[0m   4.12.3  py311h06a4308_0  pkgs/main                            \u001b[32m     Cached\u001b[0m\n  \u001b[32m+ beautifulsoup4   \u001b[0m   4.10.0  pyh06a4308_0     pkgs/main                                   87kB\n  \u001b[31m- ibm-wsrt-pyt5-def\u001b[0m    0.0.0  0                /opt/ibm/custom-channels/meta-wscloud        5kB\n  \u001b[32m+ ibm-wsrt-pyt5-def\u001b[0m   custom  0                /opt/ibm/custom-channels/meta-wscloud        3kB\n  \u001b[31m- pandas           \u001b[0m    2.1.4  py311ha02d727_0  pkgs/main                            \u001b[32m     Cached\u001b[0m\n  \u001b[32m+ pandas           \u001b[0m    2.0.3  py311ha02d727_0  pkgs/main                                   15MB\n\n  Summary:\n\n  Install: 1 packages\n  Downgrade: 3 packages\n\n  Total download: 15MB\n\n\u2500\u2500\u2500\u2500\u2500\u2500\u2500\u2500\u2500\u2500\u2500\u2500\u2500\u2500\u2500\u2500\u2500\u2500\u2500\u2500\u2500\u2500\u2500\u2500\u2500\u2500\u2500\u2500\u2500\u2500\u2500\u2500\u2500\u2500\u2500\u2500\u2500\u2500\u2500\u2500\u2500\u2500\u2500\u2500\u2500\u2500\u2500\u2500\u2500\u2500\u2500\u2500\u2500\u2500\u2500\u2500\u2500\u2500\u2500\u2500\u2500\u2500\u2500\u2500\u2500\u2500\u2500\u2500\u2500\u2500\u2500\u2500\u2500\u2500\u2500\u2500\u2500\u2500\u2500\u2500\u2500\u2500\u2500\u2500\u2500\u2500\u2500\u2500\u2500\u2500\u2500\u2500\u2500\u2500\u2500\u2500\u2500\u2500\u2500\n\n\n\u001b[?25l\u001b[2K\u001b[0G[+] 0.0s\nDownloading  (1) \u001b[90m\u2501\u2501\u2501\u2501\u2501\u2501\u2501\u2501\u2501\u2501\u2501\u2501\u2501\u2501\u2501\u2501\u2501\u2501\u2501\u2501\u2501\u2501\u2501\u001b[0m   0.0 B beautifulsoup4             0.0s\nExtracting       \u001b[90m\u2501\u2501\u2501\u2501\u2501\u2501\u2501\u2501\u2501\u2501\u2501\u2501\u2501\u2501\u2501\u2501\u2501\u2501\u2501\u2501\u2501\u2501\u2501\u001b[0m       0                            0.0s\u001b[2K\u001b[1A\u001b[2K\u001b[1A\u001b[2K\u001b[0Gibm-wsrt-pyt5-def                                    2.6kB @  16.4MB/s  0.0s\n[+] 0.1s\nDownloading  (3) \u001b[33m\u2501\u2501\u2501\u2501\u2501\u2501\u2501\u2501\u2501\u2501\u2501\u2501\u2501\u2501\u2501\u2501\u2501\u2501\u2501\u2501\u2501\u2501\u2501\u001b[0m   2.6kB beautifulsoup4             0.1s\nExtracting   (1) \u001b[33m\u2501\u2501\u2501\u2501\u2501\u2501\u2501\u2501\u2501\u2578\u001b[0m\u001b[90m\u2501\u2501\u2501\u2501\u2501\u2501\u2501\u2501\u2501\u2501\u2501\u2501\u2501\u001b[0m       0 ibm-wsrt-pyt5-def          0.0s\u001b[2K\u001b[1A\u001b[2K\u001b[1A\u001b[2K\u001b[0G[+] 0.2s\nDownloading  (3) \u001b[33m\u2501\u2501\u2501\u2501\u2501\u2501\u2501\u2501\u2501\u2501\u2501\u2501\u2501\u2501\u2501\u2501\u2501\u2501\u2501\u2501\u2501\u2501\u2501\u001b[0m   2.6kB beautifulsoup4             0.2s\nExtracting   (1) \u001b[33m\u2501\u2501\u2501\u2501\u2501\u2501\u2501\u2501\u2501\u2501\u2578\u001b[0m\u001b[90m\u2501\u2501\u2501\u2501\u2501\u2501\u2501\u2501\u2501\u2501\u2501\u2501\u001b[0m       0 ibm-wsrt-pyt5-def          0.1s\u001b[2K\u001b[1A\u001b[2K\u001b[1A\u001b[2K\u001b[0G[+] 0.3s\nDownloading  (3) \u001b[33m\u2501\u2501\u2501\u2501\u2501\u2501\u2501\u2501\u2501\u2501\u2501\u2501\u2501\u2501\u2501\u2501\u2501\u2501\u2501\u2501\u2501\u2501\u2501\u001b[0m   2.6kB beautifulsoup4             0.3s\nExtracting       \u2501\u2501\u2501\u2501\u2578\u001b[90m\u2501\u2501\u2501\u2501\u2501\u2501\u2501\u2501\u2501\u2501\u2501\u2501\u2501\u2501\u2501\u2501\u2501\u2501\u001b[0m       1                            0.2s\u001b[2K\u001b[1A\u001b[2K\u001b[1A\u001b[2K\u001b[0G[+] 0.4s\nDownloading  (3) \u001b[33m\u2501\u2501\u2501\u2501\u2501\u2501\u2501\u2501\u2501\u2501\u2501\u2501\u2501\u2501\u2501\u2501\u2501\u2501\u2501\u2501\u2501\u2501\u2501\u001b[0m   2.6kB bs4                        0.4s\nExtracting       \u2501\u2501\u2501\u2501\u2578\u001b[90m\u2501\u2501\u2501\u2501\u2501\u2501\u2501\u2501\u2501\u2501\u2501\u2501\u2501\u2501\u2501\u2501\u2501\u2501\u001b[0m       1                            0.2s\u001b[2K\u001b[1A\u001b[2K\u001b[1A\u001b[2K\u001b[0G[+] 0.5s\nDownloading  (3) \u001b[33m\u2501\u2501\u2501\u2501\u2501\u2501\u2501\u2501\u2501\u2501\u2501\u2501\u2501\u2501\u2501\u2501\u2501\u2501\u2501\u2501\u2501\u2501\u2501\u001b[0m   2.6kB bs4                        0.5s\nExtracting       \u2501\u2501\u2501\u2501\u2578\u001b[90m\u2501\u2501\u2501\u2501\u2501\u2501\u2501\u2501\u2501\u2501\u2501\u2501\u2501\u2501\u2501\u2501\u2501\u2501\u001b[0m       1                            0.2s\u001b[2K\u001b[1A\u001b[2K\u001b[1A\u001b[2K\u001b[0Gbeautifulsoup4                                      86.6kB @ 151.2kB/s  0.6s\n[+] 0.6s\nDownloading  (2) \u001b[33m\u2501\u2501\u2501\u2501\u2501\u2501\u2501\u2501\u2501\u2501\u2501\u2501\u2501\u2501\u2501\u2501\u2501\u2501\u2501\u2501\u2501\u2501\u2501\u001b[0m  89.1kB bs4                        0.6s\nExtracting   (1) \u2501\u2501\u2501\u2501\u2578\u001b[33m\u2501\u2501\u2501\u2501\u2501\u2501\u2578\u001b[0m\u001b[90m\u2501\u2501\u2501\u2501\u2501\u2501\u2501\u2501\u2501\u2501\u2501\u001b[0m       1 beautifulsoup4             0.2s\u001b[2K\u001b[1A\u001b[2K\u001b[1A\u001b[2K\u001b[0G[+] 0.7s\nDownloading  (2) \u001b[33m\u2501\u2501\u2501\u2501\u2501\u2501\u2501\u2501\u2501\u2501\u2501\u2501\u2501\u2501\u2501\u2501\u2501\u2501\u2501\u2501\u2501\u2501\u2501\u001b[0m  89.1kB bs4                        0.7s\nExtracting   (1) \u2501\u2501\u2501\u2501\u2578\u001b[33m\u2501\u2501\u2501\u2501\u2501\u2501\u2578\u001b[0m\u001b[90m\u2501\u2501\u2501\u2501\u2501\u2501\u2501\u2501\u2501\u2501\u2501\u001b[0m       1 beautifulsoup4             0.3s\u001b[2K\u001b[1A\u001b[2K\u001b[1A\u001b[2K\u001b[0G[+] 0.8s\nDownloading  (2) \u001b[33m\u2501\u2501\u2501\u2501\u2501\u2501\u2501\u2501\u2501\u2501\u2501\u2501\u2501\u2501\u2501\u2501\u2501\u2501\u2501\u2501\u2501\u2501\u2501\u001b[0m  89.1kB pandas                     0.8s\nExtracting       \u2501\u2501\u2501\u2501\u2501\u2501\u2501\u2501\u2501\u2501\u2578\u001b[90m\u2501\u2501\u2501\u2501\u2501\u2501\u2501\u2501\u2501\u2501\u2501\u2501\u001b[0m       2                            0.4s\u001b[2K\u001b[1A\u001b[2K\u001b[1A\u001b[2K\u001b[0Gbs4                                                 10.2kB @  11.5kB/s  0.9s\n[+] 0.9s\nDownloading  (1) \u001b[33m\u2501\u2501\u2501\u2501\u2501\u2501\u2501\u2501\u2501\u2501\u2501\u2501\u2501\u2501\u2501\u2501\u2501\u2501\u2501\u2501\u2501\u2501\u2501\u001b[0m  99.4kB pandas                     0.9s\nExtracting   (1) \u2501\u2501\u2501\u2501\u2501\u2501\u2501\u2501\u2501\u2501\u2578\u001b[33m\u2501\u2501\u2501\u2501\u2501\u2501\u2578\u001b[0m\u001b[90m\u2501\u2501\u2501\u2501\u2501\u001b[0m       2 bs4                        0.4s\u001b[2K\u001b[1A\u001b[2K\u001b[1A\u001b[2K\u001b[0G[+] 1.0s\nDownloading  (1) \u001b[33m\u2501\u2501\u2501\u2501\u2501\u2501\u2501\u2501\u2501\u2501\u2501\u2501\u2501\u2501\u2501\u2501\u2501\u2501\u2501\u2501\u2501\u2501\u2501\u001b[0m  99.4kB pandas                     1.0s\nExtracting   (1) \u2501\u2501\u2501\u2501\u2501\u2501\u2501\u2501\u2501\u2501\u2578\u001b[33m\u2501\u2501\u2501\u2501\u2501\u2501\u2578\u001b[0m\u001b[90m\u2501\u2501\u2501\u2501\u2501\u001b[0m       2 bs4                        0.5s\u001b[2K\u001b[1A\u001b[2K\u001b[1A\u001b[2K\u001b[0G[+] 1.1s\nDownloading  (1) \u001b[33m\u2501\u2501\u2501\u2501\u2501\u2501\u2501\u2501\u2501\u2501\u2501\u2501\u2501\u2501\u2501\u2501\u2501\u2501\u2501\u2501\u2501\u2501\u2501\u001b[0m 113.5kB pandas                     1.1s\nExtracting   (1) \u2501\u2501\u2501\u2501\u2501\u2501\u2501\u2501\u2501\u2501\u2578\u001b[33m\u2501\u2501\u2501\u2501\u2501\u2501\u2578\u001b[0m\u001b[90m\u2501\u2501\u2501\u2501\u2501\u001b[0m       2 bs4                        0.6s\u001b[2K\u001b[1A\u001b[2K\u001b[1A\u001b[2K\u001b[0G[+] 1.2s\nDownloading  (1) \u001b[33m\u2501\u2501\u2501\u2501\u2501\u2501\u2501\u2501\u2501\u2501\u2501\u2501\u2501\u2501\u2501\u2501\u2501\u2501\u2501\u2501\u2501\u2501\u2501\u001b[0m 161.7kB pandas                     1.2s\nExtracting       \u2501\u2501\u2501\u2501\u2501\u2501\u2501\u2501\u2501\u2501\u2501\u2501\u2501\u2501\u2501\u2501\u2578\u001b[90m\u2501\u2501\u2501\u2501\u2501\u2501\u001b[0m       3                            0.7s\u001b[2K\u001b[1A\u001b[2K\u001b[1A\u001b[2K\u001b[0G[+] 1.3s\nDownloading  (1) \u001b[33m\u2501\u2501\u2501\u2501\u2501\u2501\u2501\u2501\u2501\u2501\u2501\u2501\u2501\u2501\u2501\u2501\u2501\u2501\u2501\u2501\u2501\u2501\u2501\u001b[0m 207.1kB pandas                     1.3s\nExtracting       \u2501\u2501\u2501\u2501\u2501\u2501\u2501\u2501\u2501\u2501\u2501\u2501\u2501\u2501\u2501\u2501\u2578\u001b[90m\u2501\u2501\u2501\u2501\u2501\u2501\u001b[0m       3                            0.7s\u001b[2K\u001b[1A\u001b[2K\u001b[1A\u001b[2K\u001b[0G[+] 1.4s\nDownloading  (1) \u001b[33m\u2501\u2501\u2501\u2501\u2501\u2501\u2501\u2501\u2501\u2501\u2501\u2501\u2501\u2501\u2501\u2501\u2501\u2501\u2501\u2501\u2501\u2501\u2501\u001b[0m 272.7kB pandas                     1.4s\nExtracting       \u2501\u2501\u2501\u2501\u2501\u2501\u2501\u2501\u2501\u2501\u2501\u2501\u2501\u2501\u2501\u2501\u2578\u001b[90m\u2501\u2501\u2501\u2501\u2501\u2501\u001b[0m       3                            0.7s\u001b[2K\u001b[1A\u001b[2K\u001b[1A\u001b[2K\u001b[0G[+] 1.5s\nDownloading  (1) \u001b[33m\u2501\u2501\u2501\u2501\u2501\u2501\u2501\u2501\u2501\u2501\u2501\u2501\u2501\u2501\u2501\u2501\u2501\u2501\u2501\u2501\u2501\u2501\u2501\u001b[0m 407.4kB pandas                     1.5s\nExtracting       \u2501\u2501\u2501\u2501\u2501\u2501\u2501\u2501\u2501\u2501\u2501\u2501\u2501\u2501\u2501\u2501\u2578\u001b[90m\u2501\u2501\u2501\u2501\u2501\u2501\u001b[0m       3                            0.7s\u001b[2K\u001b[1A\u001b[2K\u001b[1A\u001b[2K\u001b[0G[+] 1.6s\nDownloading  (1) \u001b[33m\u2501\u2501\u2501\u2501\u2501\u2501\u2501\u2501\u2501\u2501\u2501\u2501\u2501\u2501\u2501\u2501\u2501\u2501\u2501\u2501\u2501\u2501\u2501\u001b[0m 554.9kB pandas                     1.6s\nExtracting       \u2501\u2501\u2501\u2501\u2501\u2501\u2501\u2501\u2501\u2501\u2501\u2501\u2501\u2501\u2501\u2501\u2578\u001b[90m\u2501\u2501\u2501\u2501\u2501\u2501\u001b[0m       3                            0.7s\u001b[2K\u001b[1A\u001b[2K\u001b[1A\u001b[2K\u001b[0G[+] 1.7s\nDownloading  (1) \u001b[33m\u2501\u2501\u2501\u2501\u2501\u2501\u2501\u2501\u2501\u2501\u2501\u2501\u2501\u2501\u2501\u2501\u2501\u2501\u2501\u2501\u2501\u2501\u2501\u001b[0m 702.4kB pandas                     1.7s\nExtracting       \u2501\u2501\u2501\u2501\u2501\u2501\u2501\u2501\u2501\u2501\u2501\u2501\u2501\u2501\u2501\u2501\u2578\u001b[90m\u2501\u2501\u2501\u2501\u2501\u2501\u001b[0m       3                            0.7s\u001b[2K\u001b[1A\u001b[2K\u001b[1A\u001b[2K\u001b[0G[+] 1.8s\nDownloading  (1) \u2578\u001b[33m\u2501\u2501\u2501\u2501\u2501\u2501\u2501\u2501\u2501\u2501\u2501\u2501\u2501\u2501\u2501\u2501\u2501\u2501\u2501\u2501\u2501\u2501\u001b[0m 964.5kB pandas                     1.8s\nExtracting       \u2501\u2501\u2501\u2501\u2501\u2501\u2501\u2501\u2501\u2501\u2501\u2501\u2501\u2501\u2501\u2501\u2578\u001b[90m\u2501\u2501\u2501\u2501\u2501\u2501\u001b[0m       3                            0.7s\u001b[2K\u001b[1A\u001b[2K\u001b[1A\u001b[2K\u001b[0G[+] 1.9s\nDownloading  (1) \u2578\u001b[33m\u2501\u2501\u2501\u2501\u2501\u2501\u2501\u2501\u2501\u2501\u2501\u2501\u2501\u2501\u2501\u2501\u2501\u2501\u2501\u2501\u2501\u2501\u001b[0m   1.4MB pandas                     1.9s\nExtracting       \u2501\u2501\u2501\u2501\u2501\u2501\u2501\u2501\u2501\u2501\u2501\u2501\u2501\u2501\u2501\u2501\u2578\u001b[90m\u2501\u2501\u2501\u2501\u2501\u2501\u001b[0m       3                            0.7s\u001b[2K\u001b[1A\u001b[2K\u001b[1A\u001b[2K\u001b[0G[+] 2.0s\nDownloading  (1) \u2501\u2578\u001b[33m\u2501\u2501\u2501\u2501\u2501\u2501\u2501\u2501\u2501\u2501\u2501\u2501\u2501\u2501\u2501\u2501\u2501\u2501\u2501\u2501\u2501\u001b[0m   1.9MB pandas                     2.0s\nExtracting       \u2501\u2501\u2501\u2501\u2501\u2501\u2501\u2501\u2501\u2501\u2501\u2501\u2501\u2501\u2501\u2501\u2578\u001b[90m\u2501\u2501\u2501\u2501\u2501\u2501\u001b[0m       3                            0.7s\u001b[2K\u001b[1A\u001b[2K\u001b[1A\u001b[2K\u001b[0G[+] 2.1s\nDownloading  (1) \u2501\u2501\u2578\u001b[33m\u2501\u2501\u2501\u2501\u2501\u2501\u2501\u2501\u2501\u2501\u2501\u2501\u2501\u2501\u2501\u2501\u2501\u2501\u2501\u2501\u001b[0m   2.7MB pandas                     2.1s\nExtracting       \u2501\u2501\u2501\u2501\u2501\u2501\u2501\u2501\u2501\u2501\u2501\u2501\u2501\u2501\u2501\u2501\u2578\u001b[90m\u2501\u2501\u2501\u2501\u2501\u2501\u001b[0m       3                            0.7s\u001b[2K\u001b[1A\u001b[2K\u001b[1A\u001b[2K\u001b[0G[+] 2.2s\nDownloading  (1) \u2501\u2501\u2501\u2501\u2578\u001b[33m\u2501\u2501\u2501\u2501\u2501\u2501\u2501\u2501\u2501\u2501\u2501\u2501\u2501\u2501\u2501\u2501\u2501\u2501\u001b[0m   3.8MB pandas                     2.2s\nExtracting       \u2501\u2501\u2501\u2501\u2501\u2501\u2501\u2501\u2501\u2501\u2501\u2501\u2501\u2501\u2501\u2501\u2578\u001b[90m\u2501\u2501\u2501\u2501\u2501\u2501\u001b[0m       3                            0.7s\u001b[2K\u001b[1A\u001b[2K\u001b[1A\u001b[2K\u001b[0G[+] 2.3s\nDownloading  (1) \u2501\u2501\u2501\u2501\u2501\u2501\u2578\u001b[33m\u2501\u2501\u2501\u2501\u2501\u2501\u2501\u2501\u2501\u2501\u2501\u2501\u2501\u2501\u2501\u2501\u001b[0m   5.4MB pandas                     2.3s\nExtracting       \u2501\u2501\u2501\u2501\u2501\u2501\u2501\u2501\u2501\u2501\u2501\u2501\u2501\u2501\u2501\u2501\u2578\u001b[90m\u2501\u2501\u2501\u2501\u2501\u2501\u001b[0m       3                            0.7s\u001b[2K\u001b[1A\u001b[2K\u001b[1A\u001b[2K\u001b[0G[+] 2.4s\nDownloading  (1) \u2501\u2501\u2501\u2501\u2501\u2501\u2501\u2501\u2501\u2501\u2578\u001b[33m\u2501\u2501\u2501\u2501\u2501\u2501\u2501\u2501\u2501\u2501\u2501\u2501\u001b[0m   7.5MB pandas                     2.4s\nExtracting       \u2501\u2501\u2501\u2501\u2501\u2501\u2501\u2501\u2501\u2501\u2501\u2501\u2501\u2501\u2501\u2501\u2578\u001b[90m\u2501\u2501\u2501\u2501\u2501\u2501\u001b[0m       3                            0.7s\u001b[2K\u001b[1A\u001b[2K\u001b[1A\u001b[2K\u001b[0G[+] 2.5s\nDownloading  (1) \u2501\u2501\u2501\u2501\u2501\u2501\u2501\u2501\u2501\u2501\u2501\u2501\u2501\u2501\u2578\u001b[33m\u2501\u2501\u2501\u2501\u2501\u2501\u2501\u2501\u001b[0m  10.5MB pandas                     2.5s\nExtracting       \u2501\u2501\u2501\u2501\u2501\u2501\u2501\u2501\u2501\u2501\u2501\u2501\u2501\u2501\u2501\u2501\u2578\u001b[90m\u2501\u2501\u2501\u2501\u2501\u2501\u001b[0m       3                            0.7s\u001b[2K\u001b[1A\u001b[2K\u001b[1A\u001b[2K\u001b[0G[+] 2.6s\nDownloading  (1) \u2501\u2501\u2501\u2501\u2501\u2501\u2501\u2501\u2501\u2501\u2501\u2501\u2501\u2501\u2501\u2501\u2578\u001b[33m\u2501\u2501\u2501\u2501\u2501\u2501\u001b[0m  12.2MB pandas                     2.6s\nExtracting       \u2501\u2501\u2501\u2501\u2501\u2501\u2501\u2501\u2501\u2501\u2501\u2501\u2501\u2501\u2501\u2501\u2578\u001b[90m\u2501\u2501\u2501\u2501\u2501\u2501\u001b[0m       3                            0.7s\u001b[2K\u001b[1A\u001b[2K\u001b[1A\u001b[2K\u001b[0Gpandas                                              15.4MB @   5.9MB/s  2.6s\n[+] 2.7s\nDownloading      \u2501\u2501\u2501\u2501\u2501\u2501\u2501\u2501\u2501\u2501\u2501\u2501\u2501\u2501\u2501\u2501\u2501\u2501\u2501\u2501\u2501\u2501\u2501  15.5MB                            2.7s\nExtracting   (1) \u2501\u2501\u2501\u2501\u2501\u2501\u2501\u2501\u2501\u2501\u2501\u2501\u2501\u2501\u2501\u2501\u2578\u001b[33m\u2501\u2501\u2501\u2501\u2501\u2501\u001b[0m       3 pandas                     0.7s\u001b[2K\u001b[1A\u001b[2K\u001b[1A\u001b[2K\u001b[0G[+] 2.8s\nDownloading      \u2501\u2501\u2501\u2501\u2501\u2501\u2501\u2501\u2501\u2501\u2501\u2501\u2501\u2501\u2501\u2501\u2501\u2501\u2501\u2501\u2501\u2501\u2501  15.5MB                            2.7s\nExtracting   (1) \u2501\u2501\u2501\u2501\u2501\u2501\u2501\u2501\u2501\u2501\u2501\u2501\u2501\u2501\u2501\u2501\u2578\u001b[33m\u2501\u2501\u2501\u2501\u2501\u2501\u001b[0m       3 pandas                     0.8s\u001b[2K\u001b[1A\u001b[2K\u001b[1A\u001b[2K\u001b[0G[+] 2.9s\nDownloading      \u2501\u2501\u2501\u2501\u2501\u2501\u2501\u2501\u2501\u2501\u2501\u2501\u2501\u2501\u2501\u2501\u2501\u2501\u2501\u2501\u2501\u2501\u2501  15.5MB                            2.7s\nExtracting   (1) \u2501\u2501\u2501\u2501\u2501\u2501\u2501\u2501\u2501\u2501\u2501\u2501\u2501\u2501\u2501\u2501\u2578\u001b[33m\u2501\u2501\u2501\u2501\u2501\u2501\u001b[0m       3 pandas                     0.9s\u001b[2K\u001b[1A\u001b[2K\u001b[1A\u001b[2K\u001b[0G[+] 3.0s\nDownloading      \u2501\u2501\u2501\u2501\u2501\u2501\u2501\u2501\u2501\u2501\u2501\u2501\u2501\u2501\u2501\u2501\u2501\u2501\u2501\u2501\u2501\u2501\u2501  15.5MB                            2.7s\nExtracting   (1) \u2501\u2501\u2501\u2501\u2501\u2501\u2501\u2501\u2501\u2501\u2501\u2501\u2501\u2501\u2501\u2501\u2578\u001b[33m\u2501\u2501\u2501\u2501\u2501\u2501\u001b[0m       3 pandas                     1.0s\u001b[2K\u001b[1A\u001b[2K\u001b[1A\u001b[2K\u001b[0G[+] 3.1s\nDownloading      \u2501\u2501\u2501\u2501\u2501\u2501\u2501\u2501\u2501\u2501\u2501\u2501\u2501\u2501\u2501\u2501\u2501\u2501\u2501\u2501\u2501\u2501\u2501  15.5MB                            2.7s\nExtracting   (1) \u2501\u2501\u2501\u2501\u2501\u2501\u2501\u2501\u2501\u2501\u2501\u2501\u2501\u2501\u2501\u2501\u2578\u001b[33m\u2501\u2501\u2501\u2501\u2501\u2501\u001b[0m       3 pandas                     1.1s\u001b[2K\u001b[1A\u001b[2K\u001b[1A\u001b[2K\u001b[0G[+] 3.2s\nDownloading      \u2501\u2501\u2501\u2501\u2501\u2501\u2501\u2501\u2501\u2501\u2501\u2501\u2501\u2501\u2501\u2501\u2501\u2501\u2501\u2501\u2501\u2501\u2501  15.5MB                            2.7s\nExtracting   (1) \u2501\u2501\u2501\u2501\u2501\u2501\u2501\u2501\u2501\u2501\u2501\u2501\u2501\u2501\u2501\u2501\u2578\u001b[33m\u2501\u2501\u2501\u2501\u2501\u2501\u001b[0m       3 pandas                     1.2s\u001b[2K\u001b[1A\u001b[2K\u001b[1A\u001b[2K\u001b[0G[+] 3.3s\nDownloading      \u2501\u2501\u2501\u2501\u2501\u2501\u2501\u2501\u2501\u2501\u2501\u2501\u2501\u2501\u2501\u2501\u2501\u2501\u2501\u2501\u2501\u2501\u2501  15.5MB                            2.7s\nExtracting       \u2501\u2501\u2501\u2501\u2501\u2501\u2501\u2501\u2501\u2501\u2501\u2501\u2501\u2501\u2501\u2501\u2501\u2501\u2501\u2501\u2501\u2501\u2501       4                            1.3s\u001b[2K\u001b[1A\u001b[2K\u001b[1A\u001b[2K\u001b[0G\u001b[?25h\nDownloading and Extracting Packages:\n\nPreparing transaction: done\nVerifying transaction: done\nExecuting transaction: done\nCollecting lxml==4.6.4\n  Downloading lxml-4.6.4.tar.gz (3.2 MB)\n\u001b[2K     \u001b[90m\u2501\u2501\u2501\u2501\u2501\u2501\u2501\u2501\u2501\u2501\u2501\u2501\u2501\u2501\u2501\u2501\u2501\u2501\u2501\u2501\u2501\u2501\u2501\u2501\u2501\u2501\u2501\u2501\u2501\u2501\u2501\u2501\u2501\u2501\u2501\u2501\u2501\u2501\u2501\u2501\u001b[0m \u001b[32m3.2/3.2 MB\u001b[0m \u001b[31m71.6 MB/s\u001b[0m eta \u001b[36m0:00:00\u001b[0ma \u001b[36m0:00:01\u001b[0m\n\u001b[?25h  Preparing metadata (setup.py) ... \u001b[?25ldone\n\u001b[?25hBuilding wheels for collected packages: lxml\n  Building wheel for lxml (setup.py) ... \u001b[?25lerror\n  \u001b[1;31merror\u001b[0m: \u001b[1msubprocess-exited-with-error\u001b[0m\n  \n  \u001b[31m\u00d7\u001b[0m \u001b[32mpython setup.py bdist_wheel\u001b[0m did not run successfully.\n  \u001b[31m\u2502\u001b[0m exit code: \u001b[1;36m1\u001b[0m\n  \u001b[31m\u2570\u2500>\u001b[0m \u001b[31m[103 lines of output]\u001b[0m\n  \u001b[31m   \u001b[0m Building lxml version 4.6.4.\n  \u001b[31m   \u001b[0m /tmp/1001150000/pip-install-eflel80r/lxml_3c795ecfd0994346adc7bd4af96763c4/setup.py:67: DeprecationWarning: pkg_resources is deprecated as an API. See https://setuptools.pypa.io/en/latest/pkg_resources.html\n  \u001b[31m   \u001b[0m   import pkg_resources\n  \u001b[31m   \u001b[0m Building without Cython.\n  \u001b[31m   \u001b[0m Building against libxml2 2.10.4 and libxslt 1.1.37\n  \u001b[31m   \u001b[0m Building against libxml2/libxslt in one of the following directories:\n  \u001b[31m   \u001b[0m   /opt/conda/envs/Python-RT24.1/lib\n  \u001b[31m   \u001b[0m   /opt/conda/envs/Python-RT24.1/lib\n  \u001b[31m   \u001b[0m   /opt/conda/envs/Python-RT24.1/lib\n  \u001b[31m   \u001b[0m   /opt/conda/envs/Python-RT24.1/lib\n  \u001b[31m   \u001b[0m   /opt/conda/envs/Python-RT24.1/lib\n  \u001b[31m   \u001b[0m running bdist_wheel\n  \u001b[31m   \u001b[0m running build\n  \u001b[31m   \u001b[0m running build_py\n  \u001b[31m   \u001b[0m creating build\n  \u001b[31m   \u001b[0m creating build/lib.linux-x86_64-cpython-311\n  \u001b[31m   \u001b[0m creating build/lib.linux-x86_64-cpython-311/lxml\n  \u001b[31m   \u001b[0m copying src/lxml/__init__.py -> build/lib.linux-x86_64-cpython-311/lxml\n  \u001b[31m   \u001b[0m copying src/lxml/cssselect.py -> build/lib.linux-x86_64-cpython-311/lxml\n  \u001b[31m   \u001b[0m copying src/lxml/usedoctest.py -> build/lib.linux-x86_64-cpython-311/lxml\n  \u001b[31m   \u001b[0m copying src/lxml/ElementInclude.py -> build/lib.linux-x86_64-cpython-311/lxml\n  \u001b[31m   \u001b[0m copying src/lxml/doctestcompare.py -> build/lib.linux-x86_64-cpython-311/lxml\n  \u001b[31m   \u001b[0m copying src/lxml/pyclasslookup.py -> build/lib.linux-x86_64-cpython-311/lxml\n  \u001b[31m   \u001b[0m copying src/lxml/sax.py -> build/lib.linux-x86_64-cpython-311/lxml\n  \u001b[31m   \u001b[0m copying src/lxml/_elementpath.py -> build/lib.linux-x86_64-cpython-311/lxml\n  \u001b[31m   \u001b[0m copying src/lxml/builder.py -> build/lib.linux-x86_64-cpython-311/lxml\n  \u001b[31m   \u001b[0m creating build/lib.linux-x86_64-cpython-311/lxml/includes\n  \u001b[31m   \u001b[0m copying src/lxml/includes/__init__.py -> build/lib.linux-x86_64-cpython-311/lxml/includes\n  \u001b[31m   \u001b[0m creating build/lib.linux-x86_64-cpython-311/lxml/html\n  \u001b[31m   \u001b[0m copying src/lxml/html/_html5builder.py -> build/lib.linux-x86_64-cpython-311/lxml/html\n  \u001b[31m   \u001b[0m copying src/lxml/html/_diffcommand.py -> build/lib.linux-x86_64-cpython-311/lxml/html\n  \u001b[31m   \u001b[0m copying src/lxml/html/__init__.py -> build/lib.linux-x86_64-cpython-311/lxml/html\n  \u001b[31m   \u001b[0m copying src/lxml/html/formfill.py -> build/lib.linux-x86_64-cpython-311/lxml/html\n  \u001b[31m   \u001b[0m copying src/lxml/html/usedoctest.py -> build/lib.linux-x86_64-cpython-311/lxml/html\n  \u001b[31m   \u001b[0m copying src/lxml/html/html5parser.py -> build/lib.linux-x86_64-cpython-311/lxml/html\n  \u001b[31m   \u001b[0m copying src/lxml/html/diff.py -> build/lib.linux-x86_64-cpython-311/lxml/html\n  \u001b[31m   \u001b[0m copying src/lxml/html/_setmixin.py -> build/lib.linux-x86_64-cpython-311/lxml/html\n  \u001b[31m   \u001b[0m copying src/lxml/html/clean.py -> build/lib.linux-x86_64-cpython-311/lxml/html\n  \u001b[31m   \u001b[0m copying src/lxml/html/ElementSoup.py -> build/lib.linux-x86_64-cpython-311/lxml/html\n  \u001b[31m   \u001b[0m copying src/lxml/html/soupparser.py -> build/lib.linux-x86_64-cpython-311/lxml/html\n  \u001b[31m   \u001b[0m copying src/lxml/html/builder.py -> build/lib.linux-x86_64-cpython-311/lxml/html\n  \u001b[31m   \u001b[0m copying src/lxml/html/defs.py -> build/lib.linux-x86_64-cpython-311/lxml/html\n  \u001b[31m   \u001b[0m creating build/lib.linux-x86_64-cpython-311/lxml/isoschematron\n  \u001b[31m   \u001b[0m copying src/lxml/isoschematron/__init__.py -> build/lib.linux-x86_64-cpython-311/lxml/isoschematron\n  \u001b[31m   \u001b[0m copying src/lxml/etree.h -> build/lib.linux-x86_64-cpython-311/lxml\n  \u001b[31m   \u001b[0m copying src/lxml/etree_api.h -> build/lib.linux-x86_64-cpython-311/lxml\n  \u001b[31m   \u001b[0m copying src/lxml/lxml.etree.h -> build/lib.linux-x86_64-cpython-311/lxml\n  \u001b[31m   \u001b[0m copying src/lxml/lxml.etree_api.h -> build/lib.linux-x86_64-cpython-311/lxml\n  \u001b[31m   \u001b[0m copying src/lxml/includes/xinclude.pxd -> build/lib.linux-x86_64-cpython-311/lxml/includes\n  \u001b[31m   \u001b[0m copying src/lxml/includes/xslt.pxd -> build/lib.linux-x86_64-cpython-311/lxml/includes\n  \u001b[31m   \u001b[0m copying src/lxml/includes/tree.pxd -> build/lib.linux-x86_64-cpython-311/lxml/includes\n  \u001b[31m   \u001b[0m copying src/lxml/includes/xmlschema.pxd -> build/lib.linux-x86_64-cpython-311/lxml/includes\n  \u001b[31m   \u001b[0m copying src/lxml/includes/config.pxd -> build/lib.linux-x86_64-cpython-311/lxml/includes\n  \u001b[31m   \u001b[0m copying src/lxml/includes/relaxng.pxd -> build/lib.linux-x86_64-cpython-311/lxml/includes\n  \u001b[31m   \u001b[0m copying src/lxml/includes/xpath.pxd -> build/lib.linux-x86_64-cpython-311/lxml/includes\n  \u001b[31m   \u001b[0m copying src/lxml/includes/dtdvalid.pxd -> build/lib.linux-x86_64-cpython-311/lxml/includes\n  \u001b[31m   \u001b[0m copying src/lxml/includes/schematron.pxd -> build/lib.linux-x86_64-cpython-311/lxml/includes\n  \u001b[31m   \u001b[0m copying src/lxml/includes/c14n.pxd -> build/lib.linux-x86_64-cpython-311/lxml/includes\n  \u001b[31m   \u001b[0m copying src/lxml/includes/uri.pxd -> build/lib.linux-x86_64-cpython-311/lxml/includes\n  \u001b[31m   \u001b[0m copying src/lxml/includes/xmlerror.pxd -> build/lib.linux-x86_64-cpython-311/lxml/includes\n  \u001b[31m   \u001b[0m copying src/lxml/includes/xmlparser.pxd -> build/lib.linux-x86_64-cpython-311/lxml/includes\n  \u001b[31m   \u001b[0m copying src/lxml/includes/htmlparser.pxd -> build/lib.linux-x86_64-cpython-311/lxml/includes\n  \u001b[31m   \u001b[0m copying src/lxml/includes/__init__.pxd -> build/lib.linux-x86_64-cpython-311/lxml/includes\n  \u001b[31m   \u001b[0m copying src/lxml/includes/etreepublic.pxd -> build/lib.linux-x86_64-cpython-311/lxml/includes\n  \u001b[31m   \u001b[0m copying src/lxml/includes/etree_defs.h -> build/lib.linux-x86_64-cpython-311/lxml/includes\n  \u001b[31m   \u001b[0m copying src/lxml/includes/lxml-version.h -> build/lib.linux-x86_64-cpython-311/lxml/includes\n  \u001b[31m   \u001b[0m creating build/lib.linux-x86_64-cpython-311/lxml/isoschematron/resources\n  \u001b[31m   \u001b[0m creating build/lib.linux-x86_64-cpython-311/lxml/isoschematron/resources/rng\n  \u001b[31m   \u001b[0m copying src/lxml/isoschematron/resources/rng/iso-schematron.rng -> build/lib.linux-x86_64-cpython-311/lxml/isoschematron/resources/rng\n  \u001b[31m   \u001b[0m creating build/lib.linux-x86_64-cpython-311/lxml/isoschematron/resources/xsl\n  \u001b[31m   \u001b[0m copying src/lxml/isoschematron/resources/xsl/XSD2Schtrn.xsl -> build/lib.linux-x86_64-cpython-311/lxml/isoschematron/resources/xsl\n  \u001b[31m   \u001b[0m copying src/lxml/isoschematron/resources/xsl/RNG2Schtrn.xsl -> build/lib.linux-x86_64-cpython-311/lxml/isoschematron/resources/xsl\n  \u001b[31m   \u001b[0m creating build/lib.linux-x86_64-cpython-311/lxml/isoschematron/resources/xsl/iso-schematron-xslt1\n  \u001b[31m   \u001b[0m copying src/lxml/isoschematron/resources/xsl/iso-schematron-xslt1/iso_dsdl_include.xsl -> build/lib.linux-x86_64-cpython-311/lxml/isoschematron/resources/xsl/iso-schematron-xslt1\n  \u001b[31m   \u001b[0m copying src/lxml/isoschematron/resources/xsl/iso-schematron-xslt1/iso_schematron_message.xsl -> build/lib.linux-x86_64-cpython-311/lxml/isoschematron/resources/xsl/iso-schematron-xslt1\n  \u001b[31m   \u001b[0m copying src/lxml/isoschematron/resources/xsl/iso-schematron-xslt1/iso_abstract_expand.xsl -> build/lib.linux-x86_64-cpython-311/lxml/isoschematron/resources/xsl/iso-schematron-xslt1\n  \u001b[31m   \u001b[0m copying src/lxml/isoschematron/resources/xsl/iso-schematron-xslt1/iso_svrl_for_xslt1.xsl -> build/lib.linux-x86_64-cpython-311/lxml/isoschematron/resources/xsl/iso-schematron-xslt1\n  \u001b[31m   \u001b[0m copying src/lxml/isoschematron/resources/xsl/iso-schematron-xslt1/iso_schematron_skeleton_for_xslt1.xsl -> build/lib.linux-x86_64-cpython-311/lxml/isoschematron/resources/xsl/iso-schematron-xslt1\n  \u001b[31m   \u001b[0m copying src/lxml/isoschematron/resources/xsl/iso-schematron-xslt1/readme.txt -> build/lib.linux-x86_64-cpython-311/lxml/isoschematron/resources/xsl/iso-schematron-xslt1\n  \u001b[31m   \u001b[0m running build_ext\n  \u001b[31m   \u001b[0m building 'lxml.etree' extension\n  \u001b[31m   \u001b[0m creating build/temp.linux-x86_64-cpython-311\n  \u001b[31m   \u001b[0m creating build/temp.linux-x86_64-cpython-311/src\n  \u001b[31m   \u001b[0m creating build/temp.linux-x86_64-cpython-311/src/lxml\n  \u001b[31m   \u001b[0m gcc -pthread -B /opt/conda/envs/Python-RT24.1/compiler_compat -DNDEBUG -fwrapv -O2 -Wall -fPIC -O2 -isystem /opt/conda/envs/Python-RT24.1/include -fPIC -O2 -isystem /opt/conda/envs/Python-RT24.1/include -fPIC -DCYTHON_CLINE_IN_TRACEBACK=0 -I/opt/conda/envs/Python-RT24.1/include/libxml2 -I/opt/conda/envs/Python-RT24.1/include -Isrc -Isrc/lxml/includes -I/opt/conda/envs/Python-RT24.1/include/python3.11 -c src/lxml/etree.c -o build/temp.linux-x86_64-cpython-311/src/lxml/etree.o -w\n  \u001b[31m   \u001b[0m src/lxml/etree.c:288:12: fatal error: longintrepr.h: No such file or directory\n  \u001b[31m   \u001b[0m   288 |   #include \"longintrepr.h\"\n  \u001b[31m   \u001b[0m       |            ^~~~~~~~~~~~~~~\n  \u001b[31m   \u001b[0m compilation terminated.\n  \u001b[31m   \u001b[0m Compile failed: command '/usr/bin/gcc' failed with exit code 1\n  \u001b[31m   \u001b[0m creating tmp\n  \u001b[31m   \u001b[0m creating tmp/1001150000\n  \u001b[31m   \u001b[0m cc -I/opt/conda/envs/Python-RT24.1/include/libxml2 -I/opt/conda/envs/Python-RT24.1/include -I/usr/include/libxml2 -c /tmp/1001150000/xmlXPathInitavy0thwo.c -o tmp/1001150000/xmlXPathInitavy0thwo.o\n  \u001b[31m   \u001b[0m /tmp/1001150000/xmlXPathInitavy0thwo.c: In function \u2018main\u2019:\n  \u001b[31m   \u001b[0m /tmp/1001150000/xmlXPathInitavy0thwo.c:3:5: warning: \u2018xmlXPathInit\u2019 is deprecated [-Wdeprecated-declarations]\n  \u001b[31m   \u001b[0m     3 |     xmlXPathInit();\n  \u001b[31m   \u001b[0m       |     ^~~~~~~~~~~~\n  \u001b[31m   \u001b[0m In file included from /tmp/1001150000/xmlXPathInitavy0thwo.c:1:\n  \u001b[31m   \u001b[0m /opt/conda/envs/Python-RT24.1/include/libxml2/libxml/xpath.h:564:21: note: declared here\n  \u001b[31m   \u001b[0m   564 |                     xmlXPathInit                (void);\n  \u001b[31m   \u001b[0m       |                     ^~~~~~~~~~~~\n  \u001b[31m   \u001b[0m cc tmp/1001150000/xmlXPathInitavy0thwo.o -L/opt/conda/envs/Python-RT24.1/lib -L/opt/conda/envs/Python-RT24.1/lib -L/opt/conda/envs/Python-RT24.1/lib -L/opt/conda/envs/Python-RT24.1/lib -L/opt/conda/envs/Python-RT24.1/lib -lxml2 -o a.out\n  \u001b[31m   \u001b[0m error: command '/usr/bin/gcc' failed with exit code 1\n  \u001b[31m   \u001b[0m \u001b[31m[end of output]\u001b[0m\n  \n  \u001b[1;35mnote\u001b[0m: This error originates from a subprocess, and is likely not a problem with pip.\n\u001b[31m  ERROR: Failed building wheel for lxml\u001b[0m\u001b[31m\n\u001b[0m\u001b[?25h  Running setup.py clean for lxml\nFailed to build lxml\n\u001b[31mERROR: Could not build wheels for lxml, which is required to install pyproject.toml-based projects\u001b[0m\u001b[31m\n\u001b[0m\nLooking for: ['html5lib==1.1']\n\n\u001b[?25l\u001b[2K\u001b[0Gopt/ibm/custom-channels/meta-wscloud/linux-64 (c.. Checked  0.0s\n\u001b[?25h\u001b[?25l\u001b[2K\u001b[0G\u001b[?25h\u001b[?25l\u001b[2K\u001b[0Gopt/ibm/custom-channels/meta-wscloud/noarch (che.. Checked  0.0s\n[+] 0.0s\n\u001b[2K\u001b[1A\u001b[2K\u001b[0Gopt/ibm/custom-channels/placebo-20240711/placebo.. Checked  0.0s\n\u001b[?25h\u001b[?25l\u001b[2K\u001b[0G\u001b[?25hpkgs/main/linux-64                                          Using cache\n\u001b[?25l\u001b[2K\u001b[0Gopt/ibm/custom-channels/placebo-20240711/placebo.. Checked  0.0s\n\u001b[?25hpkgs/main/noarch                                            Using cache\n\u001b[?25l\u001b[2K\u001b[0G\u001b[?25h\u001b[?25l\u001b[2K\u001b[0G[+] 0.0s\nopt/ibm/custom-channels/meta-wscloud/linux-64 \u001b[90m\u2501\u2501\u2501\u2501\u2501\u2501\u2501\u2501\u2578\u001b[0m\u001b[33m\u2501\u2501\u2501\u2501\u2501\u2501\u2501\u2501\u2501\u2501\u2501\u001b[0m   0.0 B  0.0s\u001b[2K\u001b[1A\u001b[2K\u001b[0Gopt/ibm/custom-channels/meta-wscloud/linux-64       0.0s\nopt/ibm/custom-channels/meta-wscloud/noarch          9.6kB @ 115.3MB/s  0.0s\nopt/ibm/custom-channels/placebo-20240711/placebo..  ??.?MB @  ??.?MB/s 0 failed  0.0s\nopt/ibm/custom-channels/placebo-20240711/placebo..   2.1kB @  40.3MB/s  0.0s\n\u001b[?25h\nPinned packages:\n  - python 3.11.*\n  - python 3.11.*\n  - jupyterlab_widgets 3.0.10.*\n  - widgetsnbextension 4.0.10.*\n\n\nTransaction\n\n  Prefix: /opt/conda/envs/Python-RT24.1\n\n  Updating specs:\n\n   - html5lib==1.1\n   - ca-certificates\n   - certifi\n   - openssl\n\n\n  Package         Version  Build            Channel       Size\n\u2500\u2500\u2500\u2500\u2500\u2500\u2500\u2500\u2500\u2500\u2500\u2500\u2500\u2500\u2500\u2500\u2500\u2500\u2500\u2500\u2500\u2500\u2500\u2500\u2500\u2500\u2500\u2500\u2500\u2500\u2500\u2500\u2500\u2500\u2500\u2500\u2500\u2500\u2500\u2500\u2500\u2500\u2500\u2500\u2500\u2500\u2500\u2500\u2500\u2500\u2500\u2500\u2500\u2500\u2500\u2500\u2500\u2500\u2500\u2500\u2500\u2500\u2500\u2500\n  Install:\n\u2500\u2500\u2500\u2500\u2500\u2500\u2500\u2500\u2500\u2500\u2500\u2500\u2500\u2500\u2500\u2500\u2500\u2500\u2500\u2500\u2500\u2500\u2500\u2500\u2500\u2500\u2500\u2500\u2500\u2500\u2500\u2500\u2500\u2500\u2500\u2500\u2500\u2500\u2500\u2500\u2500\u2500\u2500\u2500\u2500\u2500\u2500\u2500\u2500\u2500\u2500\u2500\u2500\u2500\u2500\u2500\u2500\u2500\u2500\u2500\u2500\u2500\u2500\u2500\n\n  \u001b[32m+ webencodings\u001b[0m    0.5.1  py311h06a4308_1  pkgs/main     25kB\n  \u001b[32m+ html5lib    \u001b[0m      1.1  pyhd3eb1b0_0     pkgs/main     93kB\n\n  Summary:\n\n  Install: 2 packages\n\n  Total download: 118kB\n\n\u2500\u2500\u2500\u2500\u2500\u2500\u2500\u2500\u2500\u2500\u2500\u2500\u2500\u2500\u2500\u2500\u2500\u2500\u2500\u2500\u2500\u2500\u2500\u2500\u2500\u2500\u2500\u2500\u2500\u2500\u2500\u2500\u2500\u2500\u2500\u2500\u2500\u2500\u2500\u2500\u2500\u2500\u2500\u2500\u2500\u2500\u2500\u2500\u2500\u2500\u2500\u2500\u2500\u2500\u2500\u2500\u2500\u2500\u2500\u2500\u2500\u2500\u2500\u2500\n\n\n\u001b[?25l\u001b[2K\u001b[0G[+] 0.0s\nDownloading  (1) \u001b[33m\u2501\u2501\u2501\u2578\u001b[0m\u001b[90m\u2501\u2501\u2501\u2501\u2501\u2501\u2501\u2501\u2501\u2501\u2501\u2501\u2501\u2501\u2501\u2501\u2501\u2501\u2501\u001b[0m   0.0 B webencodings               0.0s\nExtracting       \u001b[90m\u2501\u2501\u2501\u2501\u2501\u2501\u2501\u2501\u2501\u2501\u2501\u2501\u2501\u2501\u2501\u2501\u2501\u2501\u2501\u2501\u2501\u2501\u2501\u001b[0m       0                            0.0s\u001b[2K\u001b[1A\u001b[2K\u001b[1A\u001b[2K\u001b[0Ghtml5lib                                            93.0kB @   1.6MB/s  0.1s\nwebencodings                                        25.2kB @ 366.1kB/s  0.1s\n[+] 0.1s\nDownloading      \u2501\u2501\u2501\u2501\u2501\u2501\u2501\u2501\u2501\u2501\u2501\u2501\u2501\u2501\u2501\u2501\u2501\u2501\u2501\u2501\u2501\u2501\u2501 118.2kB                            0.1s\nExtracting   (2) \u001b[90m\u2501\u2501\u2501\u2501\u2501\u2501\u2578\u001b[0m\u001b[33m\u2501\u2501\u2501\u2501\u2501\u2501\u2501\u2501\u2501\u2501\u2501\u2501\u2501\u2501\u2501\u2501\u001b[0m       0 html5lib                   0.0s\u001b[2K\u001b[1A\u001b[2K\u001b[1A\u001b[2K\u001b[0G[+] 0.2s\nDownloading      \u2501\u2501\u2501\u2501\u2501\u2501\u2501\u2501\u2501\u2501\u2501\u2501\u2501\u2501\u2501\u2501\u2501\u2501\u2501\u2501\u2501\u2501\u2501 118.2kB                            0.1s\nExtracting   (2) \u001b[90m\u2501\u2501\u2501\u2501\u2501\u2501\u2501\u2578\u001b[0m\u001b[33m\u2501\u2501\u2501\u2501\u2501\u2501\u2501\u2501\u2501\u2501\u2501\u2501\u2501\u2501\u2501\u001b[0m       0 html5lib                   0.1s\u001b[2K\u001b[1A\u001b[2K\u001b[1A\u001b[2K\u001b[0G[+] 0.3s\nDownloading      \u2501\u2501\u2501\u2501\u2501\u2501\u2501\u2501\u2501\u2501\u2501\u2501\u2501\u2501\u2501\u2501\u2501\u2501\u2501\u2501\u2501\u2501\u2501 118.2kB                            0.1s\nExtracting   (1) \u2501\u2501\u2501\u2501\u2501\u2501\u2501\u2501\u2501\u2501\u2578\u001b[33m\u2501\u2501\u2501\u2501\u2501\u2501\u2501\u2501\u2501\u2501\u2501\u2501\u001b[0m       1 webencodings               0.2s\u001b[2K\u001b[1A\u001b[2K\u001b[1A\u001b[2K\u001b[0G\u001b[?25h\nDownloading and Extracting Packages:\n\nPreparing transaction: done\nVerifying transaction: done\nExecuting transaction: done\n"
                }
            ],
            "source": "!mamba install bs4==4.10.0 -y\n!pip install lxml==4.6.4\n!mamba install html5lib==1.1 -y\n# !pip install requests==2.26.0"
        },
        {
            "cell_type": "markdown",
            "metadata": {},
            "source": "Import the required modules and functions\n"
        },
        {
            "cell_type": "code",
            "execution_count": 2,
            "metadata": {
                "id": "a7766a32-dfd5-4496-9d5b-807a07640043"
            },
            "outputs": [],
            "source": "from bs4 import BeautifulSoup # this module helps in web scrapping.\nimport requests  # this module helps us to download a web page"
        },
        {
            "cell_type": "markdown",
            "metadata": {},
            "source": "<h2>Beautiful Soup Objects</h2>\n"
        },
        {
            "cell_type": "markdown",
            "metadata": {},
            "source": "Beautiful Soup is a Python library for pulling data out of HTML and XML files, we will focus on HTML files. This is accomplished by representing the HTML as a set of objects with methods used to parse the HTML.  We can navigate the HTML as a tree and/or filter out what we are looking for.\n\nConsider the following HTML:\n"
        },
        {
            "cell_type": "code",
            "execution_count": 3,
            "metadata": {
                "id": "7332eedc-d634-4ab0-ae73-d90c7e8f391b"
            },
            "outputs": [
                {
                    "data": {
                        "text/html": "<!DOCTYPE html>\n<html>\n<head>\n<title>Page Title</title>\n</head>\n<body>\n<h3><b id='boldest'>Lebron James</b></h3>\n<p> Salary: $ 92,000,000 </p>\n<h3> Stephen Curry</h3>\n<p> Salary: $85,000, 000 </p>\n<h3> Kevin Durant </h3>\n<p> Salary: $73,200, 000</p>\n</body>\n</html>\n",
                        "text/plain": "<IPython.core.display.HTML object>"
                    },
                    "metadata": {},
                    "output_type": "display_data"
                }
            ],
            "source": "%%html\n<!DOCTYPE html>\n<html>\n<head>\n<title>Page Title</title>\n</head>\n<body>\n<h3><b id='boldest'>Lebron James</b></h3>\n<p> Salary: $ 92,000,000 </p>\n<h3> Stephen Curry</h3>\n<p> Salary: $85,000, 000 </p>\n<h3> Kevin Durant </h3>\n<p> Salary: $73,200, 000</p>\n</body>\n</html>"
        },
        {
            "cell_type": "markdown",
            "metadata": {},
            "source": "We can store it as a string in the variable HTML:\n"
        },
        {
            "cell_type": "code",
            "execution_count": 4,
            "metadata": {
                "id": "c81cf894-223a-4b05-826a-75a18436131e"
            },
            "outputs": [],
            "source": "html=\"<!DOCTYPE html><html><head><title>Page Title</title></head><body><h3><b id='boldest'>Lebron James</b></h3><p> Salary: $ 92,000,000 </p><h3> Stephen Curry</h3><p> Salary: $85,000, 000 </p><h3> Kevin Durant </h3><p> Salary: $73,200, 000</p></body></html>\""
        },
        {
            "cell_type": "markdown",
            "metadata": {},
            "source": "To parse a document, pass it into the <code>BeautifulSoup</code> constructor, the <code>BeautifulSoup</code> object, which represents the document as a nested data structure:\n"
        },
        {
            "cell_type": "code",
            "execution_count": 5,
            "metadata": {
                "id": "60c59e9b-514d-4ce3-be61-5ee25292c88f"
            },
            "outputs": [],
            "source": "soup = BeautifulSoup(html, \"html.parser\")"
        },
        {
            "cell_type": "markdown",
            "metadata": {},
            "source": "First, the document is converted to Unicode, (similar to ASCII),  and HTML entities are converted to Unicode characters. Beautiful Soup transforms a complex HTML document into a complex tree of Python objects. The <code>BeautifulSoup</code> object can create other types of objects. In this lab, we will cover <code>BeautifulSoup</code> and <code>Tag</code> objects that for the purposes of this lab are identical, and <code>NavigableString</code> objects.\n"
        },
        {
            "cell_type": "markdown",
            "metadata": {},
            "source": "We can use the method <code>prettify()</code> to display the HTML in the nested structure:\n"
        },
        {
            "cell_type": "code",
            "execution_count": 6,
            "metadata": {
                "id": "eeb78f2c-137f-45ba-986e-01cb0c643413"
            },
            "outputs": [
                {
                    "name": "stdout",
                    "output_type": "stream",
                    "text": "<!DOCTYPE html>\n<html>\n <head>\n  <title>\n   Page Title\n  </title>\n </head>\n <body>\n  <h3>\n   <b id=\"boldest\">\n    Lebron James\n   </b>\n  </h3>\n  <p>\n   Salary: $ 92,000,000\n  </p>\n  <h3>\n   Stephen Curry\n  </h3>\n  <p>\n   Salary: $85,000, 000\n  </p>\n  <h3>\n   Kevin Durant\n  </h3>\n  <p>\n   Salary: $73,200, 000\n  </p>\n </body>\n</html>\n"
                }
            ],
            "source": "print(soup.prettify())"
        },
        {
            "cell_type": "markdown",
            "metadata": {},
            "source": "## Tags\n"
        },
        {
            "cell_type": "markdown",
            "metadata": {},
            "source": "Let's say we want the  title of the page and the name of the top paid player we can use the <code>Tag</code>. The <code>Tag</code> object corresponds to an HTML tag in the original document, for example, the tag title.\n"
        },
        {
            "cell_type": "code",
            "execution_count": 7,
            "metadata": {
                "id": "cfaf9dcd-9380-4f93-8846-9bc73b246352"
            },
            "outputs": [
                {
                    "name": "stdout",
                    "output_type": "stream",
                    "text": "tag object: <title>Page Title</title>\n"
                }
            ],
            "source": "tag_object=soup.title\nprint(\"tag object:\",tag_object)"
        },
        {
            "cell_type": "markdown",
            "metadata": {},
            "source": "we can see the tag type <code>bs4.element.Tag</code>\n"
        },
        {
            "cell_type": "code",
            "execution_count": 8,
            "metadata": {
                "id": "0841e3e0-294d-4505-89cc-82357095b30e"
            },
            "outputs": [
                {
                    "name": "stdout",
                    "output_type": "stream",
                    "text": "tag object type: <class 'bs4.element.Tag'>\n"
                }
            ],
            "source": "print(\"tag object type:\",type(tag_object))"
        },
        {
            "cell_type": "markdown",
            "metadata": {},
            "source": "If there is more than one <code>Tag</code>  with the same name, the first element with that <code>Tag</code> name is called, this corresponds to the most paid player:\n"
        },
        {
            "cell_type": "code",
            "execution_count": 9,
            "metadata": {
                "id": "0fe60414-89ff-4084-a9f5-90cba1f4d6ae"
            },
            "outputs": [
                {
                    "data": {
                        "text/plain": "<h3><b id=\"boldest\">Lebron James</b></h3>"
                    },
                    "execution_count": 9,
                    "metadata": {},
                    "output_type": "execute_result"
                }
            ],
            "source": "tag_object=soup.h3\ntag_object"
        },
        {
            "cell_type": "markdown",
            "metadata": {},
            "source": "Enclosed in the bold attribute <code>b</code>, it helps to use the tree representation. We can navigate down the tree using the child attribute to get the name.\n"
        },
        {
            "cell_type": "markdown",
            "metadata": {},
            "source": "### Children, Parents, and Siblings\n"
        },
        {
            "cell_type": "markdown",
            "metadata": {},
            "source": "As stated above the <code>Tag</code> object is a tree of objects we can access the child of the tag or navigate down the branch as follows:\n"
        },
        {
            "cell_type": "code",
            "execution_count": 10,
            "metadata": {
                "id": "4b45dd4a-eb07-4910-9255-cf784023cfd1"
            },
            "outputs": [
                {
                    "data": {
                        "text/plain": "<b id=\"boldest\">Lebron James</b>"
                    },
                    "execution_count": 10,
                    "metadata": {},
                    "output_type": "execute_result"
                }
            ],
            "source": "tag_child =tag_object.b\ntag_child"
        },
        {
            "cell_type": "markdown",
            "metadata": {},
            "source": "You can access the parent with the <code> parent</code>\n"
        },
        {
            "cell_type": "code",
            "execution_count": 11,
            "metadata": {
                "id": "93366cbd-1c5a-45ff-9925-90588281e04e"
            },
            "outputs": [
                {
                    "data": {
                        "text/plain": "<h3><b id=\"boldest\">Lebron James</b></h3>"
                    },
                    "execution_count": 11,
                    "metadata": {},
                    "output_type": "execute_result"
                }
            ],
            "source": "parent_tag=tag_child.parent\nparent_tag"
        },
        {
            "cell_type": "markdown",
            "metadata": {},
            "source": "this is identical to\n"
        },
        {
            "cell_type": "code",
            "execution_count": 12,
            "metadata": {
                "id": "df4d3d06-ecad-4b7b-8a63-7bbbbdbbfe8e"
            },
            "outputs": [
                {
                    "data": {
                        "text/plain": "<h3><b id=\"boldest\">Lebron James</b></h3>"
                    },
                    "execution_count": 12,
                    "metadata": {},
                    "output_type": "execute_result"
                }
            ],
            "source": "tag_object"
        },
        {
            "cell_type": "markdown",
            "metadata": {},
            "source": "<code>tag_object</code> parent is the <code>body</code> element.\n"
        },
        {
            "cell_type": "code",
            "execution_count": 13,
            "metadata": {
                "id": "60615264-89df-4936-8952-a18fd3cd3087"
            },
            "outputs": [
                {
                    "data": {
                        "text/plain": "<body><h3><b id=\"boldest\">Lebron James</b></h3><p> Salary: $ 92,000,000 </p><h3> Stephen Curry</h3><p> Salary: $85,000, 000 </p><h3> Kevin Durant </h3><p> Salary: $73,200, 000</p></body>"
                    },
                    "execution_count": 13,
                    "metadata": {},
                    "output_type": "execute_result"
                }
            ],
            "source": "tag_object.parent"
        },
        {
            "cell_type": "markdown",
            "metadata": {},
            "source": "<code>tag_object</code> sibling is the <code>paragraph</code> element\n"
        },
        {
            "cell_type": "code",
            "execution_count": 14,
            "metadata": {
                "id": "3ba02e47-95be-4f1a-a949-0722fb43f549"
            },
            "outputs": [
                {
                    "data": {
                        "text/plain": "<p> Salary: $ 92,000,000 </p>"
                    },
                    "execution_count": 14,
                    "metadata": {},
                    "output_type": "execute_result"
                }
            ],
            "source": "sibling_1=tag_object.next_sibling\nsibling_1"
        },
        {
            "cell_type": "markdown",
            "metadata": {},
            "source": "`sibling_2` is the `header` element which is also a sibling of both `sibling_1` and `tag_object`\n"
        },
        {
            "cell_type": "code",
            "execution_count": 15,
            "metadata": {
                "id": "a521bc5d-4239-426c-b45e-465e8c42739c"
            },
            "outputs": [
                {
                    "data": {
                        "text/plain": "<h3> Stephen Curry</h3>"
                    },
                    "execution_count": 15,
                    "metadata": {},
                    "output_type": "execute_result"
                }
            ],
            "source": "sibling_2=sibling_1.next_sibling\nsibling_2"
        },
        {
            "cell_type": "markdown",
            "metadata": {},
            "source": "<h3>Exercise: <code>next_sibling</code></h3>\n"
        },
        {
            "cell_type": "markdown",
            "metadata": {},
            "source": "Using the object <code>sibling\\_2</code> and the property <code>next_sibling</code> to find the salary of Stephen Curry:\n"
        },
        {
            "cell_type": "code",
            "execution_count": 16,
            "metadata": {
                "id": "d555918f-8783-45d2-b2af-794ca2f3936a"
            },
            "outputs": [
                {
                    "data": {
                        "text/plain": "<p> Salary: $85,000, 000 </p>"
                    },
                    "execution_count": 16,
                    "metadata": {},
                    "output_type": "execute_result"
                }
            ],
            "source": "sibling_2.next_sibling"
        },
        {
            "cell_type": "markdown",
            "metadata": {},
            "source": "<details><summary>Click here for the solution</summary>\n\n```\nsibling_2.next_sibling\n\n```\n\n</details>\n"
        },
        {
            "cell_type": "markdown",
            "metadata": {},
            "source": "### HTML Attributes\n"
        },
        {
            "cell_type": "markdown",
            "metadata": {},
            "source": "If the tag has attributes, the tag <code>id=\"boldest\"</code> has an attribute <code>id</code> whose value is <code>boldest</code>. You can access a tag\u2019s attributes by treating the tag like a dictionary:\n"
        },
        {
            "cell_type": "code",
            "execution_count": 17,
            "metadata": {
                "id": "9d7d551a-3a5b-4f70-bfd2-b0e41050344b"
            },
            "outputs": [
                {
                    "data": {
                        "text/plain": "'boldest'"
                    },
                    "execution_count": 17,
                    "metadata": {},
                    "output_type": "execute_result"
                }
            ],
            "source": "tag_child['id']"
        },
        {
            "cell_type": "markdown",
            "metadata": {},
            "source": "You can access that dictionary directly as <code>attrs</code>:\n"
        },
        {
            "cell_type": "code",
            "execution_count": 18,
            "metadata": {
                "id": "8aa0a81f-6242-46fe-8833-bc462d13d1de"
            },
            "outputs": [
                {
                    "data": {
                        "text/plain": "{'id': 'boldest'}"
                    },
                    "execution_count": 18,
                    "metadata": {},
                    "output_type": "execute_result"
                }
            ],
            "source": "tag_child.attrs"
        },
        {
            "cell_type": "markdown",
            "metadata": {},
            "source": "You can also work with Multi-valued attribute check out <a href=\"https://www.crummy.com/software/BeautifulSoup/bs4/doc/?utm_medium=Exinfluencer&amp;utm_source=Exinfluencer&amp;utm_content=000026UJ&amp;utm_term=10006555&amp;utm_id=NA-SkillsNetwork-Channel-SkillsNetworkCoursesIBMDeveloperSkillsNetworkPY0220ENSkillsNetwork23455606-2021-01-01\">\\[1]</a> for more.\n"
        },
        {
            "cell_type": "markdown",
            "metadata": {},
            "source": "We can also obtain the content if the attribute of the <code>tag</code> using the Python <code>get()</code> method.\n"
        },
        {
            "cell_type": "code",
            "execution_count": 19,
            "metadata": {
                "id": "3e3c9625-2dd0-490d-9ecd-77d704f7b6bd"
            },
            "outputs": [
                {
                    "data": {
                        "text/plain": "'boldest'"
                    },
                    "execution_count": 19,
                    "metadata": {},
                    "output_type": "execute_result"
                }
            ],
            "source": "tag_child.get('id')"
        },
        {
            "cell_type": "markdown",
            "metadata": {},
            "source": "### Navigable String\n"
        },
        {
            "cell_type": "markdown",
            "metadata": {},
            "source": "A string corresponds to a bit of text or content within a tag. Beautiful Soup uses the <code>NavigableString</code> class to contain this text. In our HTML we can obtain the name of the first player by extracting the sting of the <code>Tag</code> object <code>tag_child</code> as follows:\n"
        },
        {
            "cell_type": "code",
            "execution_count": 20,
            "metadata": {
                "id": "171fceaf-f32e-4803-a317-265c52a75f84"
            },
            "outputs": [
                {
                    "data": {
                        "text/plain": "'Lebron James'"
                    },
                    "execution_count": 20,
                    "metadata": {},
                    "output_type": "execute_result"
                }
            ],
            "source": "tag_string=tag_child.string\ntag_string"
        },
        {
            "cell_type": "markdown",
            "metadata": {},
            "source": "we can verify the type is Navigable String\n"
        },
        {
            "cell_type": "code",
            "execution_count": 21,
            "metadata": {
                "id": "c0cfcc14-76c9-4888-869f-959b0e62307f"
            },
            "outputs": [
                {
                    "data": {
                        "text/plain": "bs4.element.NavigableString"
                    },
                    "execution_count": 21,
                    "metadata": {},
                    "output_type": "execute_result"
                }
            ],
            "source": "type(tag_string)"
        },
        {
            "cell_type": "markdown",
            "metadata": {},
            "source": "A NavigableString is just like a Python string or Unicode string, to be more precise. The main difference is that it also supports some  <code>BeautifulSoup</code> features. We can covert it to sting object in Python:\n"
        },
        {
            "cell_type": "code",
            "execution_count": 22,
            "metadata": {
                "id": "7cca593f-e93c-4b73-be56-6cd2c6a11f8e"
            },
            "outputs": [
                {
                    "data": {
                        "text/plain": "'Lebron James'"
                    },
                    "execution_count": 22,
                    "metadata": {},
                    "output_type": "execute_result"
                }
            ],
            "source": "unicode_string = str(tag_string)\nunicode_string"
        },
        {
            "cell_type": "markdown",
            "metadata": {},
            "source": "<h2>Filter</h2>\n"
        },
        {
            "cell_type": "markdown",
            "metadata": {},
            "source": "Filters allow you to find complex patterns, the simplest filter is a string. In this section we will pass a string to a different filter method and Beautiful Soup will perform a match against that exact string.  Consider the following HTML of rocket launchs:\n"
        },
        {
            "cell_type": "code",
            "execution_count": 23,
            "metadata": {
                "id": "4e0fcd10-ac3d-4440-a0b6-2ca22bba665d"
            },
            "outputs": [
                {
                    "data": {
                        "text/html": "<table>\n  <tr>\n    <td id='flight' >Flight No</td>\n    <td>Launch site</td> \n    <td>Payload mass</td>\n   </tr>\n  <tr> \n    <td>1</td>\n    <td><a href='https://en.wikipedia.org/wiki/Florida'>Florida</a></td>\n    <td>300 kg</td>\n  </tr>\n  <tr>\n    <td>2</td>\n    <td><a href='https://en.wikipedia.org/wiki/Texas'>Texas</a></td>\n    <td>94 kg</td>\n  </tr>\n  <tr>\n    <td>3</td>\n    <td><a href='https://en.wikipedia.org/wiki/Florida'>Florida</a> </td>\n    <td>80 kg</td>\n  </tr>\n</table>\n",
                        "text/plain": "<IPython.core.display.HTML object>"
                    },
                    "metadata": {},
                    "output_type": "display_data"
                }
            ],
            "source": "%%html\n<table>\n  <tr>\n    <td id='flight' >Flight No</td>\n    <td>Launch site</td> \n    <td>Payload mass</td>\n   </tr>\n  <tr> \n    <td>1</td>\n    <td><a href='https://en.wikipedia.org/wiki/Florida'>Florida</a></td>\n    <td>300 kg</td>\n  </tr>\n  <tr>\n    <td>2</td>\n    <td><a href='https://en.wikipedia.org/wiki/Texas'>Texas</a></td>\n    <td>94 kg</td>\n  </tr>\n  <tr>\n    <td>3</td>\n    <td><a href='https://en.wikipedia.org/wiki/Florida'>Florida</a> </td>\n    <td>80 kg</td>\n  </tr>\n</table>"
        },
        {
            "cell_type": "markdown",
            "metadata": {},
            "source": "We can store it as a string in the variable <code>table</code>:\n"
        },
        {
            "cell_type": "code",
            "execution_count": 24,
            "metadata": {
                "id": "62aa7c6c-f423-4591-a740-c8adc6033b31"
            },
            "outputs": [],
            "source": "table=\"<table><tr><td id='flight' >Flight No</td><td>Launch site</td><td>Payload mass</td></tr><tr><td>1</td><td><a href='https://en.wikipedia.org/wiki/Florida'>Florida</a></td><td>300 kg</td></tr><tr><td>2</td><td><a href='https://en.wikipedia.org/wiki/Texas'>Texas</a></td><td>94 kg</td></tr><tr><td>3</td><td><a href='https://en.wikipedia.org/wiki/Florida'>Florida</a> </td><td>80 kg</td></tr></table>\""
        },
        {
            "cell_type": "code",
            "execution_count": 25,
            "metadata": {
                "id": "cb90b607-e5f3-4a53-9395-d96b2d39e688"
            },
            "outputs": [],
            "source": "table_bs = BeautifulSoup(table, \"html.parser\")"
        },
        {
            "cell_type": "markdown",
            "metadata": {},
            "source": "## find All\n"
        },
        {
            "cell_type": "markdown",
            "metadata": {},
            "source": "The <code>find_all()</code> method looks through a tag\u2019s descendants and retrieves all descendants that match your filters.\n\n<p>\nThe Method signature for <code>find_all(name, attrs, recursive, string, limit, **kwargs)&lt;c/ode&gt;\n</code></p><code>\n</code>"
        },
        {
            "cell_type": "markdown",
            "metadata": {},
            "source": "### Name\n"
        },
        {
            "cell_type": "markdown",
            "metadata": {},
            "source": "When we set the <code>name</code> parameter to a tag name, the method will extract all the tags with that name and its children.\n"
        },
        {
            "cell_type": "code",
            "execution_count": 26,
            "metadata": {
                "id": "75bab37b-97f2-40a1-8030-7c7aed69c124"
            },
            "outputs": [
                {
                    "data": {
                        "text/plain": "[<tr><td id=\"flight\">Flight No</td><td>Launch site</td><td>Payload mass</td></tr>,\n <tr><td>1</td><td><a href=\"https://en.wikipedia.org/wiki/Florida\">Florida</a></td><td>300 kg</td></tr>,\n <tr><td>2</td><td><a href=\"https://en.wikipedia.org/wiki/Texas\">Texas</a></td><td>94 kg</td></tr>,\n <tr><td>3</td><td><a href=\"https://en.wikipedia.org/wiki/Florida\">Florida</a> </td><td>80 kg</td></tr>]"
                    },
                    "execution_count": 26,
                    "metadata": {},
                    "output_type": "execute_result"
                }
            ],
            "source": "table_rows=table_bs.find_all('tr')\ntable_rows"
        },
        {
            "cell_type": "markdown",
            "metadata": {},
            "source": "The result is a Python Iterable just like a list, each element is a <code>tag</code> object:\n"
        },
        {
            "cell_type": "code",
            "execution_count": 27,
            "metadata": {
                "id": "31142eac-c9ed-4cd9-b355-510ce9ff7890"
            },
            "outputs": [
                {
                    "data": {
                        "text/plain": "<tr><td id=\"flight\">Flight No</td><td>Launch site</td><td>Payload mass</td></tr>"
                    },
                    "execution_count": 27,
                    "metadata": {},
                    "output_type": "execute_result"
                }
            ],
            "source": "first_row =table_rows[0]\nfirst_row"
        },
        {
            "cell_type": "markdown",
            "metadata": {},
            "source": "The type is <code>tag</code>\n"
        },
        {
            "cell_type": "code",
            "execution_count": 28,
            "metadata": {
                "id": "c29be37a-24a2-4dec-886e-152b7b4abc9d"
            },
            "outputs": [
                {
                    "name": "stdout",
                    "output_type": "stream",
                    "text": "<class 'bs4.element.Tag'>\n"
                }
            ],
            "source": "print(type(first_row))"
        },
        {
            "cell_type": "markdown",
            "metadata": {},
            "source": "we can obtain the child\n"
        },
        {
            "cell_type": "code",
            "execution_count": 29,
            "metadata": {
                "id": "cefe078f-172a-43d4-bb75-cd11eedc8aeb"
            },
            "outputs": [
                {
                    "data": {
                        "text/plain": "<td id=\"flight\">Flight No</td>"
                    },
                    "execution_count": 29,
                    "metadata": {},
                    "output_type": "execute_result"
                }
            ],
            "source": "first_row.td"
        },
        {
            "cell_type": "markdown",
            "metadata": {},
            "source": "If we iterate through the list, each element corresponds to a row in the table:\n"
        },
        {
            "cell_type": "code",
            "execution_count": 30,
            "metadata": {
                "id": "c0e33b27-3041-481e-8f5c-4fc2a2480f42"
            },
            "outputs": [
                {
                    "name": "stdout",
                    "output_type": "stream",
                    "text": "row 0 is <tr><td id=\"flight\">Flight No</td><td>Launch site</td><td>Payload mass</td></tr>\nrow 1 is <tr><td>1</td><td><a href=\"https://en.wikipedia.org/wiki/Florida\">Florida</a></td><td>300 kg</td></tr>\nrow 2 is <tr><td>2</td><td><a href=\"https://en.wikipedia.org/wiki/Texas\">Texas</a></td><td>94 kg</td></tr>\nrow 3 is <tr><td>3</td><td><a href=\"https://en.wikipedia.org/wiki/Florida\">Florida</a> </td><td>80 kg</td></tr>\n"
                }
            ],
            "source": "for i,row in enumerate(table_rows):\n    print(\"row\",i,\"is\",row)\n    "
        },
        {
            "cell_type": "markdown",
            "metadata": {},
            "source": "As <code>row</code> is a <code>cell</code> object, we can apply the method <code>find_all</code> to it and extract table cells in the object <code>cells</code> using the tag <code>td</code>, this is all the children with the name <code>td</code>. The result is a list, each element corresponds to a cell and is a <code>Tag</code> object, we can iterate through this list as well. We can extract the content using the <code>string</code>  attribute.\n"
        },
        {
            "cell_type": "code",
            "execution_count": 31,
            "metadata": {
                "id": "440b71cc-59aa-4cac-bb2e-94265b8ce913"
            },
            "outputs": [
                {
                    "name": "stdout",
                    "output_type": "stream",
                    "text": "row 0\ncolunm 0 cell <td id=\"flight\">Flight No</td>\ncolunm 1 cell <td>Launch site</td>\ncolunm 2 cell <td>Payload mass</td>\nrow 1\ncolunm 0 cell <td>1</td>\ncolunm 1 cell <td><a href=\"https://en.wikipedia.org/wiki/Florida\">Florida</a></td>\ncolunm 2 cell <td>300 kg</td>\nrow 2\ncolunm 0 cell <td>2</td>\ncolunm 1 cell <td><a href=\"https://en.wikipedia.org/wiki/Texas\">Texas</a></td>\ncolunm 2 cell <td>94 kg</td>\nrow 3\ncolunm 0 cell <td>3</td>\ncolunm 1 cell <td><a href=\"https://en.wikipedia.org/wiki/Florida\">Florida</a> </td>\ncolunm 2 cell <td>80 kg</td>\n"
                }
            ],
            "source": "for i,row in enumerate(table_rows):\n    print(\"row\",i)\n    cells=row.find_all('td')\n    for j,cell in enumerate(cells):\n        print('colunm',j,\"cell\",cell)"
        },
        {
            "cell_type": "markdown",
            "metadata": {},
            "source": "If we use a list we can match against any item in that list.\n"
        },
        {
            "cell_type": "code",
            "execution_count": 32,
            "metadata": {
                "id": "2a69dbce-a8a3-4841-9152-3cc420f5cf5d"
            },
            "outputs": [
                {
                    "data": {
                        "text/plain": "[<tr><td id=\"flight\">Flight No</td><td>Launch site</td><td>Payload mass</td></tr>,\n <td id=\"flight\">Flight No</td>,\n <td>Launch site</td>,\n <td>Payload mass</td>,\n <tr><td>1</td><td><a href=\"https://en.wikipedia.org/wiki/Florida\">Florida</a></td><td>300 kg</td></tr>,\n <td>1</td>,\n <td><a href=\"https://en.wikipedia.org/wiki/Florida\">Florida</a></td>,\n <td>300 kg</td>,\n <tr><td>2</td><td><a href=\"https://en.wikipedia.org/wiki/Texas\">Texas</a></td><td>94 kg</td></tr>,\n <td>2</td>,\n <td><a href=\"https://en.wikipedia.org/wiki/Texas\">Texas</a></td>,\n <td>94 kg</td>,\n <tr><td>3</td><td><a href=\"https://en.wikipedia.org/wiki/Florida\">Florida</a> </td><td>80 kg</td></tr>,\n <td>3</td>,\n <td><a href=\"https://en.wikipedia.org/wiki/Florida\">Florida</a> </td>,\n <td>80 kg</td>]"
                    },
                    "execution_count": 32,
                    "metadata": {},
                    "output_type": "execute_result"
                }
            ],
            "source": "list_input=table_bs .find_all(name=[\"tr\", \"td\"])\nlist_input"
        },
        {
            "cell_type": "markdown",
            "metadata": {},
            "source": "## Attributes\n"
        },
        {
            "cell_type": "markdown",
            "metadata": {},
            "source": "If the argument is not recognized it will be turned into a filter on the tag\u2019s attributes. For example the <code>id</code>  argument, Beautiful Soup will filter against each tag\u2019s <code>id</code> attribute. For example, the first <code>td</code> elements have a value of <code>id</code> of <code>flight</code>, therefore we can filter based on that <code>id</code> value.\n"
        },
        {
            "cell_type": "code",
            "execution_count": 33,
            "metadata": {
                "id": "75fb70b5-8670-4441-88c0-78af82eb5801"
            },
            "outputs": [
                {
                    "data": {
                        "text/plain": "[<td id=\"flight\">Flight No</td>]"
                    },
                    "execution_count": 33,
                    "metadata": {},
                    "output_type": "execute_result"
                }
            ],
            "source": "table_bs.find_all(id=\"flight\")"
        },
        {
            "cell_type": "markdown",
            "metadata": {},
            "source": "We can find all the elements that have links to the Florida Wikipedia page:\n"
        },
        {
            "cell_type": "code",
            "execution_count": 34,
            "metadata": {
                "id": "b29c819c-f317-42c9-ac09-317ffd89b844"
            },
            "outputs": [
                {
                    "data": {
                        "text/plain": "[<a href=\"https://en.wikipedia.org/wiki/Florida\">Florida</a>,\n <a href=\"https://en.wikipedia.org/wiki/Florida\">Florida</a>]"
                    },
                    "execution_count": 34,
                    "metadata": {},
                    "output_type": "execute_result"
                }
            ],
            "source": "list_input=table_bs.find_all(href=\"https://en.wikipedia.org/wiki/Florida\")\nlist_input"
        },
        {
            "cell_type": "markdown",
            "metadata": {},
            "source": "If we set the  <code>href</code> attribute to True, regardless of what the value is, the code finds all tags with <code>href</code> value:\n"
        },
        {
            "cell_type": "code",
            "execution_count": 35,
            "metadata": {
                "id": "0485dd79-d116-4444-af5b-ead484a86feb"
            },
            "outputs": [
                {
                    "data": {
                        "text/plain": "[<a href=\"https://en.wikipedia.org/wiki/Florida\">Florida</a>,\n <a href=\"https://en.wikipedia.org/wiki/Texas\">Texas</a>,\n <a href=\"https://en.wikipedia.org/wiki/Florida\">Florida</a>]"
                    },
                    "execution_count": 35,
                    "metadata": {},
                    "output_type": "execute_result"
                }
            ],
            "source": "table_bs.find_all(href=True)"
        },
        {
            "cell_type": "markdown",
            "metadata": {},
            "source": "There are other methods for dealing with attributes and other related methods; Check out the following <a href=\"https://www.crummy.com/software/BeautifulSoup/bs4/doc/?utm_medium=Exinfluencer&amp;utm_source=Exinfluencer&amp;utm_content=000026UJ&amp;utm_term=10006555&amp;utm_id=NA-SkillsNetwork-Channel-SkillsNetworkCoursesIBMDeveloperSkillsNetworkPY0220ENSkillsNetwork23455606-2021-01-01#css-selectors\">link</a>\n"
        },
        {
            "cell_type": "markdown",
            "metadata": {},
            "source": "<h3>Exercise: <code>find_all</code></h3>\n"
        },
        {
            "cell_type": "markdown",
            "metadata": {},
            "source": "Using the logic above, find all the elements without <code>href</code> value\n"
        },
        {
            "cell_type": "code",
            "execution_count": 36,
            "metadata": {
                "id": "f69fd58a-b22b-4385-8c44-afe91f2f6259"
            },
            "outputs": [
                {
                    "data": {
                        "text/plain": "[]"
                    },
                    "execution_count": 36,
                    "metadata": {},
                    "output_type": "execute_result"
                }
            ],
            "source": "table_bs.find_all('a', href=False)"
        },
        {
            "cell_type": "markdown",
            "metadata": {},
            "source": "<details><summary>Click here for the solution</summary>\n\n```\ntable_bs.find_all('a', href=False)\n\n```\n\n</details>\n"
        },
        {
            "cell_type": "markdown",
            "metadata": {},
            "source": "Using the soup object <code>soup</code>, find the element with the <code>id</code> attribute content set to <code>\"boldest\"</code>.\n"
        },
        {
            "cell_type": "code",
            "execution_count": 37,
            "metadata": {
                "id": "4c881b29-abce-4853-84a6-2e15ccad3a0f"
            },
            "outputs": [
                {
                    "data": {
                        "text/plain": "[<b id=\"boldest\">Lebron James</b>]"
                    },
                    "execution_count": 37,
                    "metadata": {},
                    "output_type": "execute_result"
                }
            ],
            "source": "soup.find_all(id=\"boldest\")"
        },
        {
            "cell_type": "markdown",
            "metadata": {},
            "source": "<details><summary>Click here for the solution</summary>\n\n```\nsoup.find_all(id=\"boldest\")\n\n```\n\n</details>\n"
        },
        {
            "cell_type": "markdown",
            "metadata": {},
            "source": "### string\n"
        },
        {
            "cell_type": "markdown",
            "metadata": {},
            "source": "With string you can search for strings instead of tags, where we find all the elments with Florida:\n"
        },
        {
            "cell_type": "code",
            "execution_count": 38,
            "metadata": {
                "id": "27e0d13b-34ba-437a-829b-d10257cb224e"
            },
            "outputs": [
                {
                    "data": {
                        "text/plain": "['Florida', 'Florida']"
                    },
                    "execution_count": 38,
                    "metadata": {},
                    "output_type": "execute_result"
                }
            ],
            "source": "table_bs.find_all(string=\"Florida\")"
        },
        {
            "cell_type": "markdown",
            "metadata": {},
            "source": "## find\n"
        },
        {
            "cell_type": "markdown",
            "metadata": {},
            "source": "The <code>find_all()</code> method scans the entire document looking for results, it\u2019s if you are looking for one element you can use the <code>find()</code> method to find the first element in the document. Consider the following two table:\n"
        },
        {
            "cell_type": "code",
            "execution_count": 39,
            "metadata": {
                "id": "fef39759-3d29-4552-8ab9-f543ac848a18"
            },
            "outputs": [
                {
                    "data": {
                        "text/html": "<h3>Rocket Launch </h3>\n\n<p>\n<table class='rocket'>\n  <tr>\n    <td>Flight No</td>\n    <td>Launch site</td> \n    <td>Payload mass</td>\n  </tr>\n  <tr>\n    <td>1</td>\n    <td>Florida</td>\n    <td>300 kg</td>\n  </tr>\n  <tr>\n    <td>2</td>\n    <td>Texas</td>\n    <td>94 kg</td>\n  </tr>\n  <tr>\n    <td>3</td>\n    <td>Florida </td>\n    <td>80 kg</td>\n  </tr>\n</table>\n</p>\n<p>\n\n<h3>Pizza Party  </h3>\n  \n    \n<table class='pizza'>\n  <tr>\n    <td>Pizza Place</td>\n    <td>Orders</td> \n    <td>Slices </td>\n   </tr>\n  <tr>\n    <td>Domino's Pizza</td>\n    <td>10</td>\n    <td>100</td>\n  </tr>\n  <tr>\n    <td>Little Caesars</td>\n    <td>12</td>\n    <td >144 </td>\n  </tr>\n  <tr>\n    <td>Papa John's </td>\n    <td>15 </td>\n    <td>165</td>\n  </tr>\n",
                        "text/plain": "<IPython.core.display.HTML object>"
                    },
                    "metadata": {},
                    "output_type": "display_data"
                }
            ],
            "source": "%%html\n<h3>Rocket Launch </h3>\n\n<p>\n<table class='rocket'>\n  <tr>\n    <td>Flight No</td>\n    <td>Launch site</td> \n    <td>Payload mass</td>\n  </tr>\n  <tr>\n    <td>1</td>\n    <td>Florida</td>\n    <td>300 kg</td>\n  </tr>\n  <tr>\n    <td>2</td>\n    <td>Texas</td>\n    <td>94 kg</td>\n  </tr>\n  <tr>\n    <td>3</td>\n    <td>Florida </td>\n    <td>80 kg</td>\n  </tr>\n</table>\n</p>\n<p>\n\n<h3>Pizza Party  </h3>\n  \n    \n<table class='pizza'>\n  <tr>\n    <td>Pizza Place</td>\n    <td>Orders</td> \n    <td>Slices </td>\n   </tr>\n  <tr>\n    <td>Domino's Pizza</td>\n    <td>10</td>\n    <td>100</td>\n  </tr>\n  <tr>\n    <td>Little Caesars</td>\n    <td>12</td>\n    <td >144 </td>\n  </tr>\n  <tr>\n    <td>Papa John's </td>\n    <td>15 </td>\n    <td>165</td>\n  </tr>\n"
        },
        {
            "cell_type": "markdown",
            "metadata": {},
            "source": "We store the HTML as a Python string and assign <code>two_tables</code>:\n"
        },
        {
            "cell_type": "code",
            "execution_count": 40,
            "metadata": {
                "id": "9b771345-48c4-4762-966a-b973fb362f6e"
            },
            "outputs": [],
            "source": "two_tables=\"<h3>Rocket Launch </h3><p><table class='rocket'><tr><td>Flight No</td><td>Launch site</td> <td>Payload mass</td></tr><tr><td>1</td><td>Florida</td><td>300 kg</td></tr><tr><td>2</td><td>Texas</td><td>94 kg</td></tr><tr><td>3</td><td>Florida </td><td>80 kg</td></tr></table></p><p><h3>Pizza Party  </h3><table class='pizza'><tr><td>Pizza Place</td><td>Orders</td> <td>Slices </td></tr><tr><td>Domino's Pizza</td><td>10</td><td>100</td></tr><tr><td>Little Caesars</td><td>12</td><td >144 </td></tr><tr><td>Papa John's </td><td>15 </td><td>165</td></tr>\""
        },
        {
            "cell_type": "markdown",
            "metadata": {},
            "source": "We create a <code>BeautifulSoup</code> object  <code>two_tables_bs</code>\n"
        },
        {
            "cell_type": "code",
            "execution_count": 41,
            "metadata": {
                "id": "00c5d7b6-24a6-4eff-8fdd-9fc3c75f67d5"
            },
            "outputs": [],
            "source": "two_tables_bs= BeautifulSoup(two_tables, 'html.parser')"
        },
        {
            "cell_type": "markdown",
            "metadata": {},
            "source": "We can find the first table using the tag name table\n"
        },
        {
            "cell_type": "code",
            "execution_count": 42,
            "metadata": {
                "id": "a7307b52-8118-48bd-a9d2-6810c908d50d"
            },
            "outputs": [
                {
                    "data": {
                        "text/plain": "<table class=\"rocket\"><tr><td>Flight No</td><td>Launch site</td> <td>Payload mass</td></tr><tr><td>1</td><td>Florida</td><td>300 kg</td></tr><tr><td>2</td><td>Texas</td><td>94 kg</td></tr><tr><td>3</td><td>Florida </td><td>80 kg</td></tr></table>"
                    },
                    "execution_count": 42,
                    "metadata": {},
                    "output_type": "execute_result"
                }
            ],
            "source": "two_tables_bs.find(\"table\")"
        },
        {
            "cell_type": "markdown",
            "metadata": {},
            "source": "We can filter on the class attribute to find the second table, but because class is a keyword in Python, we add an underscore.\n"
        },
        {
            "cell_type": "code",
            "execution_count": 43,
            "metadata": {
                "id": "86b7d657-af55-4c6d-a3e5-46479b1172d9"
            },
            "outputs": [
                {
                    "data": {
                        "text/plain": "<table class=\"pizza\"><tr><td>Pizza Place</td><td>Orders</td> <td>Slices </td></tr><tr><td>Domino's Pizza</td><td>10</td><td>100</td></tr><tr><td>Little Caesars</td><td>12</td><td>144 </td></tr><tr><td>Papa John's </td><td>15 </td><td>165</td></tr></table>"
                    },
                    "execution_count": 43,
                    "metadata": {},
                    "output_type": "execute_result"
                }
            ],
            "source": "two_tables_bs.find(\"table\",class_='pizza')"
        },
        {
            "cell_type": "markdown",
            "metadata": {},
            "source": "<h2>Downloading And Scraping The Contents Of A Web Page</h2> \n"
        },
        {
            "cell_type": "markdown",
            "metadata": {},
            "source": "We Download the contents of the web page:\n"
        },
        {
            "cell_type": "code",
            "execution_count": 44,
            "metadata": {
                "id": "449b170d-c085-460b-9e98-b136772d086d"
            },
            "outputs": [],
            "source": "url = \"http://www.ibm.com\""
        },
        {
            "cell_type": "markdown",
            "metadata": {},
            "source": "We use <code>get</code> to download the contents of the webpage in text format and store in a variable called <code>data</code>:\n"
        },
        {
            "cell_type": "code",
            "execution_count": 45,
            "metadata": {
                "id": "beca0bb0-509f-454b-b3b5-a8e8889c2af2"
            },
            "outputs": [],
            "source": "data  = requests.get(url).text "
        },
        {
            "cell_type": "markdown",
            "metadata": {},
            "source": "We create a <code>BeautifulSoup</code> object using the <code>BeautifulSoup</code> constructor\n"
        },
        {
            "cell_type": "code",
            "execution_count": 46,
            "metadata": {
                "id": "8a5d70aa-a4bd-46d1-91c1-82525e4b3577"
            },
            "outputs": [],
            "source": "soup = BeautifulSoup(data,\"html.parser\")  # create a soup object using the variable 'data'"
        },
        {
            "cell_type": "markdown",
            "metadata": {},
            "source": "Scrape all links\n"
        },
        {
            "cell_type": "code",
            "execution_count": 50,
            "metadata": {
                "id": "1985b0ff-c0eb-4bbd-91b9-a80218025b7c"
            },
            "outputs": [
                {
                    "name": "stdout",
                    "output_type": "stream",
                    "text": "https://au.newsroom.ibm.com/IBM-Whitepaper-Accountability-and-Risk-Matter-in-Agentic-AI?lnk=hpls1au\nhttps://www.ibm.com/products/watsonx-orchestrate?lnk=hpls2au\nhttps://www.ibm.com/granite?lnk=hpad1au\nhttps://developer.ibm.com/technologies/artificial-intelligence?lnk=hpad2au\nhttps://www.ibm.com/products/watsonx-code-assistant?lnk=hpad3au\nhttps://www.ibm.com/watsonx/developer/?lnk=hpad4au\nhttps://www.ibm.com/thought-leadership/institute-business-value/report/ceo-generative-ai?lnk=hpab1au\nhttps://www.ibm.com/think/videos/ai-academy?lnk=hpab2au\nhttps://www.ibm.com/products/watsonx-orchestrate/ai-agent-for-hr?lnk=hpab3au\nhttps://www.ibm.com/products/guardium-data-security-center?lnk=hpab4au\nhttps://www.ibm.com/account/reg/signup?formid=DEMO-securityguardium&lnk=hpAUbt1\nhttps://www.ibm.com/artificial-intelligence?lnk=hpfp1au\nhttps://www.ibm.com/hybrid-cloud?lnk=hpfp2au\nhttps://www.ibm.com/consulting?lnk=hpfp3au\nhttps://www.ibm.com/au-en/about?lnk=hpii1au\nhttps://www.ibm.com/history?lnk=hpii2au\nhttps://research.ibm.com?lnk=hpii5au\nhttps://www.ibm.com/quantum?lnk=hpii6au\nhttps://www.ibm.com/au-en/careers?lnk=hpii1au\nhttps://skillsbuild.org?lnk=hpii1au\n"
                }
            ],
            "source": "for link in soup.find_all('a',href=True):  # in html anchor/link is represented by the tag <a>\n\n    print(link.get('href'))\n"
        },
        {
            "cell_type": "markdown",
            "metadata": {},
            "source": "## Scrape  all images  Tags\n"
        },
        {
            "cell_type": "code",
            "execution_count": 52,
            "metadata": {
                "id": "eae4a683-745f-4a65-b9c9-bf103651f43f"
            },
            "outputs": [],
            "source": "for link in soup.find_all('img'):# in html image is represented by the tag <img>\n    print(link)\n    print(link.get('src'))"
        },
        {
            "cell_type": "markdown",
            "metadata": {},
            "source": "## Scrape data from HTML tables\n"
        },
        {
            "cell_type": "code",
            "execution_count": 53,
            "metadata": {
                "id": "c7d986c4-d540-4616-bda7-6e53c4b192d1"
            },
            "outputs": [],
            "source": "#The below url contains an html table with data about colors and color codes.\nurl = \"https://cf-courses-data.s3.us.cloud-object-storage.appdomain.cloud/IBM-DA0321EN-SkillsNetwork/labs/datasets/HTMLColorCodes.html\""
        },
        {
            "cell_type": "markdown",
            "metadata": {},
            "source": "Before proceeding to scrape a web site, you need to examine the contents, and the way data is organized on the website. Open the above url in your browser and check how many rows and columns are there in the color table.\n"
        },
        {
            "cell_type": "code",
            "execution_count": 54,
            "metadata": {
                "id": "f4bdde5e-cfc2-49ae-bb3b-28929410b219"
            },
            "outputs": [],
            "source": "# get the contents of the webpage in text format and store in a variable called data\ndata  = requests.get(url).text"
        },
        {
            "cell_type": "code",
            "execution_count": 55,
            "metadata": {
                "id": "09a9ca16-6b63-4e1f-92ee-4fe31f5097fe"
            },
            "outputs": [],
            "source": "soup = BeautifulSoup(data,\"html.parser\")"
        },
        {
            "cell_type": "code",
            "execution_count": 56,
            "metadata": {
                "id": "91a8ad53-9605-4d2a-940f-5deb9a2a410c"
            },
            "outputs": [],
            "source": "#find a html table in the web page\ntable = soup.find('table') # in html table is represented by the tag <table>"
        },
        {
            "cell_type": "code",
            "execution_count": 57,
            "metadata": {
                "id": "1d96ca90-a6d9-41d6-9cd5-6a6fa1111765"
            },
            "outputs": [
                {
                    "name": "stdout",
                    "output_type": "stream",
                    "text": "Color Name--->None\nlightsalmon--->#FFA07A\nsalmon--->#FA8072\ndarksalmon--->#E9967A\nlightcoral--->#F08080\ncoral--->#FF7F50\ntomato--->#FF6347\norangered--->#FF4500\ngold--->#FFD700\norange--->#FFA500\ndarkorange--->#FF8C00\nlightyellow--->#FFFFE0\nlemonchiffon--->#FFFACD\npapayawhip--->#FFEFD5\nmoccasin--->#FFE4B5\npeachpuff--->#FFDAB9\npalegoldenrod--->#EEE8AA\nkhaki--->#F0E68C\ndarkkhaki--->#BDB76B\nyellow--->#FFFF00\nlawngreen--->#7CFC00\nchartreuse--->#7FFF00\nlimegreen--->#32CD32\nlime--->#00FF00\nforestgreen--->#228B22\ngreen--->#008000\npowderblue--->#B0E0E6\nlightblue--->#ADD8E6\nlightskyblue--->#87CEFA\nskyblue--->#87CEEB\ndeepskyblue--->#00BFFF\nlightsteelblue--->#B0C4DE\ndodgerblue--->#1E90FF\n"
                }
            ],
            "source": "#Get all rows from the table\nfor row in table.find_all('tr'): # in html table row is represented by the tag <tr>\n    # Get all columns in each row.\n    cols = row.find_all('td') # in html a column is represented by the tag <td>\n    color_name = cols[2].string # store the value in column 3 as color_name\n    color_code = cols[3].string # store the value in column 4 as color_code\n    print(\"{}--->{}\".format(color_name,color_code))"
        },
        {
            "cell_type": "markdown",
            "metadata": {},
            "source": "## Scrape data from HTML tables into a DataFrame using BeautifulSoup and Pandas\n"
        },
        {
            "cell_type": "code",
            "execution_count": 58,
            "metadata": {
                "id": "afe9607a-a45a-4fb8-8795-f7579f828fc3"
            },
            "outputs": [],
            "source": "import pandas as pd"
        },
        {
            "cell_type": "code",
            "execution_count": 59,
            "metadata": {
                "id": "f8059c8c-578f-4890-8476-39caac509383"
            },
            "outputs": [],
            "source": "#The below url contains html tables with data about world population.\nurl = \"https://en.wikipedia.org/wiki/World_population\""
        },
        {
            "cell_type": "markdown",
            "metadata": {},
            "source": "Before proceeding to scrape a web site, you need to examine the contents, and the way data is organized on the website. Open the above url in your browser and check the tables on the webpage.\n"
        },
        {
            "cell_type": "code",
            "execution_count": 60,
            "metadata": {
                "id": "62a33db7-1dba-4eb2-a981-d99fcd2eda68"
            },
            "outputs": [],
            "source": "# get the contents of the webpage in text format and store in a variable called data\ndata  = requests.get(url).text"
        },
        {
            "cell_type": "code",
            "execution_count": 61,
            "metadata": {
                "id": "daf8d687-868f-4717-a01f-ed93a9181f8e"
            },
            "outputs": [],
            "source": "soup = BeautifulSoup(data,\"html.parser\")"
        },
        {
            "cell_type": "code",
            "execution_count": 62,
            "metadata": {
                "id": "7b405c21-4236-4f8e-8ffd-b6c633e0f91b"
            },
            "outputs": [],
            "source": "#find all html tables in the web page\ntables = soup.find_all('table') # in html table is represented by the tag <table>"
        },
        {
            "cell_type": "code",
            "execution_count": 63,
            "metadata": {
                "id": "5e30df34-a639-4e67-bdc8-d11b8de54d4f"
            },
            "outputs": [
                {
                    "data": {
                        "text/plain": "27"
                    },
                    "execution_count": 63,
                    "metadata": {},
                    "output_type": "execute_result"
                }
            ],
            "source": "# we can see how many tables were found by checking the length of the tables list\nlen(tables)"
        },
        {
            "cell_type": "markdown",
            "metadata": {},
            "source": "Assume that we are looking for the `10 most densly populated countries` table, we can look through the tables list and find the right one we are look for based on the data in each table or we can search for the table name if it is in the table but this option might not always work.\n"
        },
        {
            "cell_type": "code",
            "execution_count": 64,
            "metadata": {
                "id": "2667b7da-d6cc-4911-a2a2-f09745ceee6b"
            },
            "outputs": [
                {
                    "name": "stdout",
                    "output_type": "stream",
                    "text": "6\n"
                }
            ],
            "source": "for index,table in enumerate(tables):\n    if (\"10 most densely populated countries\" in str(table)):\n        table_index = index\nprint(table_index)"
        },
        {
            "cell_type": "markdown",
            "metadata": {},
            "source": "See if you can locate the table name of the table, `10 most densly populated countries`, below.\n"
        },
        {
            "cell_type": "code",
            "execution_count": 68,
            "metadata": {
                "id": "0aea1067-6e70-401a-b0ab-5f4c6b416e8f"
            },
            "outputs": [
                {
                    "name": "stdout",
                    "output_type": "stream",
                    "text": "<table class=\"wikitable sortable\" style=\"text-align:right\">\n <caption>\n  10 most densely populated countries\n  <small>\n   (with population above 5\u00a0million)\n  </small>\n  <sup class=\"reference\" id=\"cite_ref-:10_103-0\">\n   <a href=\"#cite_note-:10-103\">\n    <span class=\"cite-bracket\">\n     [\n    </span>\n    98\n    <span class=\"cite-bracket\">\n     ]\n    </span>\n   </a>\n  </sup>\n </caption>\n <tbody>\n  <tr>\n   <th scope=\"col\">\n    Rank\n   </th>\n   <th scope=\"col\">\n    Country\n   </th>\n   <th scope=\"col\">\n    Population\n   </th>\n   <th scope=\"col\">\n    Area\n    <br/>\n    <small>\n     (km\n     <sup>\n      2\n     </sup>\n     )\n    </small>\n   </th>\n   <th scope=\"col\">\n    Density\n    <br/>\n    <small>\n     (pop/km\n     <sup>\n      2\n     </sup>\n     )\n    </small>\n   </th>\n  </tr>\n  <tr>\n   <td>\n    1\n   </td>\n   <td align=\"left\">\n    <span class=\"flagicon\">\n     <span class=\"mw-image-border\" typeof=\"mw:File\">\n      <span>\n       <img alt=\"\" class=\"mw-file-element\" data-file-height=\"600\" data-file-width=\"900\" decoding=\"async\" height=\"15\" src=\"//upload.wikimedia.org/wikipedia/commons/thumb/4/48/Flag_of_Singapore.svg/40px-Flag_of_Singapore.svg.png\" srcset=\"//upload.wikimedia.org/wikipedia/commons/thumb/4/48/Flag_of_Singapore.svg/60px-Flag_of_Singapore.svg.png 2x\" width=\"23\"/>\n      </span>\n     </span>\n    </span>\n    <a href=\"/wiki/Singapore\" title=\"Singapore\">\n     Singapore\n    </a>\n   </td>\n   <td>\n    5,921,231\n   </td>\n   <td>\n    719\n   </td>\n   <td>\n    8,235\n   </td>\n  </tr>\n  <tr>\n   <td>\n    2\n   </td>\n   <td align=\"left\">\n    <span class=\"flagicon\">\n     <span class=\"mw-image-border\" typeof=\"mw:File\">\n      <span>\n       <img alt=\"\" class=\"mw-file-element\" data-file-height=\"307\" data-file-width=\"512\" decoding=\"async\" height=\"14\" src=\"//upload.wikimedia.org/wikipedia/commons/thumb/f/f9/Flag_of_Bangladesh.svg/40px-Flag_of_Bangladesh.svg.png\" srcset=\"//upload.wikimedia.org/wikipedia/commons/thumb/f/f9/Flag_of_Bangladesh.svg/60px-Flag_of_Bangladesh.svg.png 2x\" width=\"23\"/>\n      </span>\n     </span>\n    </span>\n    <a href=\"/wiki/Bangladesh\" title=\"Bangladesh\">\n     Bangladesh\n    </a>\n   </td>\n   <td>\n    165,650,475\n   </td>\n   <td>\n    148,460\n   </td>\n   <td>\n    1,116\n   </td>\n  </tr>\n  <tr>\n   <td>\n    3\n   </td>\n   <td align=\"left\">\n    <p>\n     <span class=\"flagicon\">\n      <span class=\"mw-image-border\" typeof=\"mw:File\">\n       <span>\n        <img alt=\"\" class=\"mw-file-element\" data-file-height=\"600\" data-file-width=\"1200\" decoding=\"async\" height=\"12\" src=\"//upload.wikimedia.org/wikipedia/commons/thumb/0/00/Flag_of_Palestine.svg/40px-Flag_of_Palestine.svg.png\" srcset=\"//upload.wikimedia.org/wikipedia/commons/thumb/0/00/Flag_of_Palestine.svg/60px-Flag_of_Palestine.svg.png 2x\" width=\"23\"/>\n       </span>\n      </span>\n     </span>\n     <a href=\"/wiki/Palestine\" title=\"Palestine\">\n      Palestine\n     </a>\n     <sup class=\"reference\" id=\"cite_ref-104\">\n      <a href=\"#cite_note-104\">\n       <span class=\"cite-bracket\">\n        [\n       </span>\n       note 3\n       <span class=\"cite-bracket\">\n        ]\n       </span>\n      </a>\n     </sup>\n     <sup class=\"reference\" id=\"cite_ref-105\">\n      <a href=\"#cite_note-105\">\n       <span class=\"cite-bracket\">\n        [\n       </span>\n       99\n       <span class=\"cite-bracket\">\n        ]\n       </span>\n      </a>\n     </sup>\n    </p>\n   </td>\n   <td>\n    5,223,000\n   </td>\n   <td>\n    6,025\n   </td>\n   <td>\n    867\n   </td>\n  </tr>\n  <tr>\n   <td>\n    4\n   </td>\n   <td align=\"left\">\n    <span class=\"flagicon\">\n     <span class=\"mw-image-border\" typeof=\"mw:File\">\n      <span>\n       <img alt=\"\" class=\"mw-file-element\" data-file-height=\"600\" data-file-width=\"900\" decoding=\"async\" height=\"15\" src=\"//upload.wikimedia.org/wikipedia/commons/thumb/7/72/Flag_of_the_Republic_of_China.svg/40px-Flag_of_the_Republic_of_China.svg.png\" srcset=\"//upload.wikimedia.org/wikipedia/commons/thumb/7/72/Flag_of_the_Republic_of_China.svg/60px-Flag_of_the_Republic_of_China.svg.png 2x\" width=\"23\"/>\n      </span>\n     </span>\n    </span>\n    <a href=\"/wiki/Taiwan\" title=\"Taiwan\">\n     Taiwan\n    </a>\n    <sup class=\"reference\" id=\"cite_ref-106\">\n     <a href=\"#cite_note-106\">\n      <span class=\"cite-bracket\">\n       [\n      </span>\n      note 4\n      <span class=\"cite-bracket\">\n       ]\n      </span>\n     </a>\n    </sup>\n   </td>\n   <td>\n    23,580,712\n   </td>\n   <td>\n    35,980\n   </td>\n   <td>\n    655\n   </td>\n  </tr>\n  <tr>\n   <td>\n    5\n   </td>\n   <td align=\"left\">\n    <span class=\"flagicon\">\n     <span class=\"mw-image-border\" typeof=\"mw:File\">\n      <span>\n       <img alt=\"\" class=\"mw-file-element\" data-file-height=\"600\" data-file-width=\"900\" decoding=\"async\" height=\"15\" src=\"//upload.wikimedia.org/wikipedia/commons/thumb/0/09/Flag_of_South_Korea.svg/40px-Flag_of_South_Korea.svg.png\" srcset=\"//upload.wikimedia.org/wikipedia/commons/thumb/0/09/Flag_of_South_Korea.svg/60px-Flag_of_South_Korea.svg.png 2x\" width=\"23\"/>\n      </span>\n     </span>\n    </span>\n    <a href=\"/wiki/South_Korea\" title=\"South Korea\">\n     South Korea\n    </a>\n   </td>\n   <td>\n    51,844,834\n   </td>\n   <td>\n    99,720\n   </td>\n   <td>\n    520\n   </td>\n  </tr>\n  <tr>\n   <td>\n    6\n   </td>\n   <td align=\"left\">\n    <span class=\"flagicon\">\n     <span class=\"mw-image-border\" typeof=\"mw:File\">\n      <span>\n       <img alt=\"\" class=\"mw-file-element\" data-file-height=\"1920\" data-file-width=\"2880\" decoding=\"async\" height=\"15\" src=\"//upload.wikimedia.org/wikipedia/commons/thumb/5/59/Flag_of_Lebanon.svg/40px-Flag_of_Lebanon.svg.png\" srcset=\"//upload.wikimedia.org/wikipedia/commons/thumb/5/59/Flag_of_Lebanon.svg/60px-Flag_of_Lebanon.svg.png 2x\" width=\"23\"/>\n      </span>\n     </span>\n    </span>\n    <a href=\"/wiki/Lebanon\" title=\"Lebanon\">\n     Lebanon\n    </a>\n   </td>\n   <td>\n    5,296,814\n   </td>\n   <td>\n    10,400\n   </td>\n   <td>\n    509\n   </td>\n  </tr>\n  <tr>\n   <td>\n    7\n   </td>\n   <td align=\"left\">\n    <span class=\"flagicon\">\n     <span class=\"mw-image-border\" typeof=\"mw:File\">\n      <span>\n       <img alt=\"\" class=\"mw-file-element\" data-file-height=\"600\" data-file-width=\"900\" decoding=\"async\" height=\"15\" src=\"//upload.wikimedia.org/wikipedia/commons/thumb/1/17/Flag_of_Rwanda.svg/40px-Flag_of_Rwanda.svg.png\" srcset=\"//upload.wikimedia.org/wikipedia/commons/thumb/1/17/Flag_of_Rwanda.svg/60px-Flag_of_Rwanda.svg.png 2x\" width=\"23\"/>\n      </span>\n     </span>\n    </span>\n    <a href=\"/wiki/Rwanda\" title=\"Rwanda\">\n     Rwanda\n    </a>\n   </td>\n   <td>\n    13,173,730\n   </td>\n   <td>\n    26,338\n   </td>\n   <td>\n    500\n   </td>\n  </tr>\n  <tr>\n   <td>\n    8\n   </td>\n   <td align=\"left\">\n    <span class=\"flagicon\">\n     <span class=\"mw-image-border\" typeof=\"mw:File\">\n      <span>\n       <img alt=\"\" class=\"mw-file-element\" data-file-height=\"600\" data-file-width=\"1000\" decoding=\"async\" height=\"14\" src=\"//upload.wikimedia.org/wikipedia/commons/thumb/5/50/Flag_of_Burundi.svg/40px-Flag_of_Burundi.svg.png\" srcset=\"//upload.wikimedia.org/wikipedia/commons/thumb/5/50/Flag_of_Burundi.svg/60px-Flag_of_Burundi.svg.png 2x\" width=\"23\"/>\n      </span>\n     </span>\n    </span>\n    <a href=\"/wiki/Burundi\" title=\"Burundi\">\n     Burundi\n    </a>\n   </td>\n   <td>\n    12,696,478\n   </td>\n   <td>\n    27,830\n   </td>\n   <td>\n    456\n   </td>\n  </tr>\n  <tr>\n   <td>\n    9\n   </td>\n   <td align=\"left\">\n    <span class=\"flagicon\">\n     <span class=\"mw-image-border\" typeof=\"mw:File\">\n      <span>\n       <img alt=\"\" class=\"mw-file-element\" data-file-height=\"800\" data-file-width=\"1100\" decoding=\"async\" height=\"15\" src=\"//upload.wikimedia.org/wikipedia/commons/thumb/d/d4/Flag_of_Israel.svg/40px-Flag_of_Israel.svg.png\" srcset=\"//upload.wikimedia.org/wikipedia/commons/thumb/d/d4/Flag_of_Israel.svg/60px-Flag_of_Israel.svg.png 2x\" width=\"21\"/>\n      </span>\n     </span>\n    </span>\n    <a href=\"/wiki/Israel\" title=\"Israel\">\n     Israel\n    </a>\n   </td>\n   <td>\n    9,402,617\n   </td>\n   <td>\n    21,937\n   </td>\n   <td>\n    429\n   </td>\n  </tr>\n  <tr>\n   <td>\n    10\n   </td>\n   <td align=\"left\">\n    <span class=\"flagicon\">\n     <span class=\"mw-image-border\" typeof=\"mw:File\">\n      <span>\n       <img alt=\"\" class=\"mw-file-element\" data-file-height=\"600\" data-file-width=\"900\" decoding=\"async\" height=\"15\" src=\"//upload.wikimedia.org/wikipedia/en/thumb/4/41/Flag_of_India.svg/40px-Flag_of_India.svg.png\" srcset=\"//upload.wikimedia.org/wikipedia/en/thumb/4/41/Flag_of_India.svg/60px-Flag_of_India.svg.png 2x\" width=\"23\"/>\n      </span>\n     </span>\n    </span>\n    <a href=\"/wiki/India\" title=\"India\">\n     India\n    </a>\n   </td>\n   <td>\n    1,389,637,446\n   </td>\n   <td>\n    3,287,263\n   </td>\n   <td>\n    423\n   </td>\n  </tr>\n </tbody>\n</table>\n\n"
                }
            ],
            "source": "print(tables[table_index].prettify())"
        },
        {
            "cell_type": "code",
            "execution_count": 69,
            "metadata": {
                "id": "3cf43964-08a1-45a0-8614-fb258fa3e85f"
            },
            "outputs": [
                {
                    "ename": "AttributeError",
                    "evalue": "'DataFrame' object has no attribute 'append'",
                    "output_type": "error",
                    "traceback": [
                        "\u001b[0;31m---------------------------------------------------------------------------\u001b[0m",
                        "\u001b[0;31mAttributeError\u001b[0m                            Traceback (most recent call last)",
                        "\u001b[0;32m/tmp/1001150000/ipykernel_101/394869253.py\u001b[0m in \u001b[0;36m?\u001b[0;34m()\u001b[0m\n\u001b[1;32m      7\u001b[0m         \u001b[0mcountry\u001b[0m \u001b[0;34m=\u001b[0m \u001b[0mcol\u001b[0m\u001b[0;34m[\u001b[0m\u001b[0;36m1\u001b[0m\u001b[0;34m]\u001b[0m\u001b[0;34m.\u001b[0m\u001b[0mtext\u001b[0m\u001b[0;34m\u001b[0m\u001b[0;34m\u001b[0m\u001b[0m\n\u001b[1;32m      8\u001b[0m         \u001b[0mpopulation\u001b[0m \u001b[0;34m=\u001b[0m \u001b[0mcol\u001b[0m\u001b[0;34m[\u001b[0m\u001b[0;36m2\u001b[0m\u001b[0;34m]\u001b[0m\u001b[0;34m.\u001b[0m\u001b[0mtext\u001b[0m\u001b[0;34m.\u001b[0m\u001b[0mstrip\u001b[0m\u001b[0;34m(\u001b[0m\u001b[0;34m)\u001b[0m\u001b[0;34m\u001b[0m\u001b[0;34m\u001b[0m\u001b[0m\n\u001b[1;32m      9\u001b[0m         \u001b[0marea\u001b[0m \u001b[0;34m=\u001b[0m \u001b[0mcol\u001b[0m\u001b[0;34m[\u001b[0m\u001b[0;36m3\u001b[0m\u001b[0;34m]\u001b[0m\u001b[0;34m.\u001b[0m\u001b[0mtext\u001b[0m\u001b[0;34m.\u001b[0m\u001b[0mstrip\u001b[0m\u001b[0;34m(\u001b[0m\u001b[0;34m)\u001b[0m\u001b[0;34m\u001b[0m\u001b[0;34m\u001b[0m\u001b[0m\n\u001b[1;32m     10\u001b[0m         \u001b[0mdensity\u001b[0m \u001b[0;34m=\u001b[0m \u001b[0mcol\u001b[0m\u001b[0;34m[\u001b[0m\u001b[0;36m4\u001b[0m\u001b[0;34m]\u001b[0m\u001b[0;34m.\u001b[0m\u001b[0mtext\u001b[0m\u001b[0;34m.\u001b[0m\u001b[0mstrip\u001b[0m\u001b[0;34m(\u001b[0m\u001b[0;34m)\u001b[0m\u001b[0;34m\u001b[0m\u001b[0;34m\u001b[0m\u001b[0m\n\u001b[0;32m---> 11\u001b[0;31m         \u001b[0mpopulation_data\u001b[0m \u001b[0;34m=\u001b[0m \u001b[0mpopulation_data\u001b[0m\u001b[0;34m.\u001b[0m\u001b[0mappend\u001b[0m\u001b[0;34m(\u001b[0m\u001b[0;34m{\u001b[0m\u001b[0;34m\"Rank\"\u001b[0m\u001b[0;34m:\u001b[0m\u001b[0mrank\u001b[0m\u001b[0;34m,\u001b[0m \u001b[0;34m\"Country\"\u001b[0m\u001b[0;34m:\u001b[0m\u001b[0mcountry\u001b[0m\u001b[0;34m,\u001b[0m \u001b[0;34m\"Population\"\u001b[0m\u001b[0;34m:\u001b[0m\u001b[0mpopulation\u001b[0m\u001b[0;34m,\u001b[0m \u001b[0;34m\"Area\"\u001b[0m\u001b[0;34m:\u001b[0m\u001b[0marea\u001b[0m\u001b[0;34m,\u001b[0m \u001b[0;34m\"Density\"\u001b[0m\u001b[0;34m:\u001b[0m\u001b[0mdensity\u001b[0m\u001b[0;34m}\u001b[0m\u001b[0;34m,\u001b[0m \u001b[0mignore_index\u001b[0m\u001b[0;34m=\u001b[0m\u001b[0;32mTrue\u001b[0m\u001b[0;34m)\u001b[0m\u001b[0;34m\u001b[0m\u001b[0;34m\u001b[0m\u001b[0m\n\u001b[0m\u001b[1;32m     12\u001b[0m \u001b[0;34m\u001b[0m\u001b[0m\n\u001b[1;32m     13\u001b[0m \u001b[0mpopulation_data\u001b[0m\u001b[0;34m\u001b[0m\u001b[0;34m\u001b[0m\u001b[0m\n",
                        "\u001b[0;32m/opt/conda/envs/Python-RT24.1/lib/python3.11/site-packages/pandas/core/generic.py\u001b[0m in \u001b[0;36m?\u001b[0;34m(self, name)\u001b[0m\n\u001b[1;32m   5985\u001b[0m             \u001b[0;32mand\u001b[0m \u001b[0mname\u001b[0m \u001b[0;32mnot\u001b[0m \u001b[0;32min\u001b[0m \u001b[0mself\u001b[0m\u001b[0;34m.\u001b[0m\u001b[0m_accessors\u001b[0m\u001b[0;34m\u001b[0m\u001b[0;34m\u001b[0m\u001b[0m\n\u001b[1;32m   5986\u001b[0m             \u001b[0;32mand\u001b[0m \u001b[0mself\u001b[0m\u001b[0;34m.\u001b[0m\u001b[0m_info_axis\u001b[0m\u001b[0;34m.\u001b[0m\u001b[0m_can_hold_identifiers_and_holds_name\u001b[0m\u001b[0;34m(\u001b[0m\u001b[0mname\u001b[0m\u001b[0;34m)\u001b[0m\u001b[0;34m\u001b[0m\u001b[0;34m\u001b[0m\u001b[0m\n\u001b[1;32m   5987\u001b[0m         ):\n\u001b[1;32m   5988\u001b[0m             \u001b[0;32mreturn\u001b[0m \u001b[0mself\u001b[0m\u001b[0;34m[\u001b[0m\u001b[0mname\u001b[0m\u001b[0;34m]\u001b[0m\u001b[0;34m\u001b[0m\u001b[0;34m\u001b[0m\u001b[0m\n\u001b[0;32m-> 5989\u001b[0;31m         \u001b[0;32mreturn\u001b[0m \u001b[0mobject\u001b[0m\u001b[0;34m.\u001b[0m\u001b[0m__getattribute__\u001b[0m\u001b[0;34m(\u001b[0m\u001b[0mself\u001b[0m\u001b[0;34m,\u001b[0m \u001b[0mname\u001b[0m\u001b[0;34m)\u001b[0m\u001b[0;34m\u001b[0m\u001b[0;34m\u001b[0m\u001b[0m\n\u001b[0m",
                        "\u001b[0;31mAttributeError\u001b[0m: 'DataFrame' object has no attribute 'append'"
                    ]
                }
            ],
            "source": "population_data = pd.DataFrame(columns=[\"Rank\", \"Country\", \"Population\", \"Area\", \"Density\"])\n\nfor row in tables[table_index].tbody.find_all(\"tr\"):\n    col = row.find_all(\"td\")\n    if (col != []):\n        rank = col[0].text\n        country = col[1].text\n        population = col[2].text.strip()\n        area = col[3].text.strip()\n        density = col[4].text.strip()\n        population_data = population_data.append({\"Rank\":rank, \"Country\":country, \"Population\":population, \"Area\":area, \"Density\":density}, ignore_index=True)\n\npopulation_data"
        },
        {
            "cell_type": "markdown",
            "metadata": {},
            "source": "## Scrape data from HTML tables into a DataFrame using BeautifulSoup and read_html\n"
        },
        {
            "cell_type": "markdown",
            "metadata": {},
            "source": "Using the same `url`, `data`, `soup`, and `tables` object as in the last section we can use the `read_html` function to create a DataFrame.\n\nRemember the table we need is located in `tables[table_index]`\n\nWe can now use the `pandas` function `read_html` and give it the string version of the table as well as the `flavor` which is the parsing engine `bs4`.\n"
        },
        {
            "cell_type": "code",
            "execution_count": 70,
            "metadata": {
                "id": "a322b1d8-3c84-4549-b3ce-ba595e263262"
            },
            "outputs": [
                {
                    "data": {
                        "text/plain": "[    0                                                  1\n 0 NaN  Graphs are unavailable due to technical issues...]"
                    },
                    "execution_count": 70,
                    "metadata": {},
                    "output_type": "execute_result"
                }
            ],
            "source": "pd.read_html(str(tables[5]), flavor='bs4')"
        },
        {
            "cell_type": "markdown",
            "metadata": {},
            "source": "The function `read_html` always returns a list of DataFrames so we must pick the one we want out of the list.\n"
        },
        {
            "cell_type": "code",
            "execution_count": 71,
            "metadata": {
                "id": "df3120ec-d5ee-42d2-836b-e12f75d0efcb"
            },
            "outputs": [
                {
                    "data": {
                        "text/html": "<div>\n<style scoped>\n    .dataframe tbody tr th:only-of-type {\n        vertical-align: middle;\n    }\n\n    .dataframe tbody tr th {\n        vertical-align: top;\n    }\n\n    .dataframe thead th {\n        text-align: right;\n    }\n</style>\n<table border=\"1\" class=\"dataframe\">\n  <thead>\n    <tr style=\"text-align: right;\">\n      <th></th>\n      <th>0</th>\n      <th>1</th>\n    </tr>\n  </thead>\n  <tbody>\n    <tr>\n      <th>0</th>\n      <td>NaN</td>\n      <td>Graphs are unavailable due to technical issues...</td>\n    </tr>\n  </tbody>\n</table>\n</div>",
                        "text/plain": "    0                                                  1\n0 NaN  Graphs are unavailable due to technical issues..."
                    },
                    "execution_count": 71,
                    "metadata": {},
                    "output_type": "execute_result"
                }
            ],
            "source": "population_data_read_html = pd.read_html(str(tables[5]), flavor='bs4')[0]\n\npopulation_data_read_html"
        },
        {
            "cell_type": "markdown",
            "metadata": {},
            "source": "## Scrape data from HTML tables into a DataFrame using read_html\n"
        },
        {
            "cell_type": "markdown",
            "metadata": {},
            "source": "We can also use the `read_html` function to directly get DataFrames from a `url`.\n"
        },
        {
            "cell_type": "code",
            "execution_count": 72,
            "metadata": {
                "id": "f6e7db5c-650a-4126-92cc-f4f3382b9585"
            },
            "outputs": [],
            "source": "dataframe_list = pd.read_html(url, flavor='bs4')"
        },
        {
            "cell_type": "markdown",
            "metadata": {},
            "source": "We can see there are 25 DataFrames just like when we used `find_all` on the `soup` object.\n"
        },
        {
            "cell_type": "code",
            "execution_count": 73,
            "metadata": {
                "id": "117b53d3-93a7-43c2-af1d-21ae2189df22"
            },
            "outputs": [
                {
                    "data": {
                        "text/plain": "27"
                    },
                    "execution_count": 73,
                    "metadata": {},
                    "output_type": "execute_result"
                }
            ],
            "source": "len(dataframe_list)"
        },
        {
            "cell_type": "markdown",
            "metadata": {},
            "source": "Finally we can pick the DataFrame we need out of the list.\n"
        },
        {
            "cell_type": "code",
            "execution_count": 74,
            "metadata": {
                "id": "edad48a9-8494-49af-ae27-7eda845a8555"
            },
            "outputs": [
                {
                    "data": {
                        "text/html": "<div>\n<style scoped>\n    .dataframe tbody tr th:only-of-type {\n        vertical-align: middle;\n    }\n\n    .dataframe tbody tr th {\n        vertical-align: top;\n    }\n\n    .dataframe thead th {\n        text-align: right;\n    }\n</style>\n<table border=\"1\" class=\"dataframe\">\n  <thead>\n    <tr style=\"text-align: right;\">\n      <th></th>\n      <th>0</th>\n      <th>1</th>\n    </tr>\n  </thead>\n  <tbody>\n    <tr>\n      <th>0</th>\n      <td>NaN</td>\n      <td>Graphs are unavailable due to technical issues...</td>\n    </tr>\n  </tbody>\n</table>\n</div>",
                        "text/plain": "    0                                                  1\n0 NaN  Graphs are unavailable due to technical issues..."
                    },
                    "execution_count": 74,
                    "metadata": {},
                    "output_type": "execute_result"
                }
            ],
            "source": "dataframe_list[5]"
        },
        {
            "cell_type": "markdown",
            "metadata": {},
            "source": "We can also use the `match` parameter to select the specific table we want. If the table contains a string matching the text it will be read.\n"
        },
        {
            "cell_type": "code",
            "execution_count": 75,
            "metadata": {
                "id": "c8511d8e-f403-4475-af48-6dd174a6ac33"
            },
            "outputs": [
                {
                    "data": {
                        "text/html": "<div>\n<style scoped>\n    .dataframe tbody tr th:only-of-type {\n        vertical-align: middle;\n    }\n\n    .dataframe tbody tr th {\n        vertical-align: top;\n    }\n\n    .dataframe thead th {\n        text-align: right;\n    }\n</style>\n<table border=\"1\" class=\"dataframe\">\n  <thead>\n    <tr style=\"text-align: right;\">\n      <th></th>\n      <th>Rank</th>\n      <th>Country</th>\n      <th>Population</th>\n      <th>Area (km2)</th>\n      <th>Density (pop/km2)</th>\n    </tr>\n  </thead>\n  <tbody>\n    <tr>\n      <th>0</th>\n      <td>1</td>\n      <td>Singapore</td>\n      <td>5921231</td>\n      <td>719</td>\n      <td>8235</td>\n    </tr>\n    <tr>\n      <th>1</th>\n      <td>2</td>\n      <td>Bangladesh</td>\n      <td>165650475</td>\n      <td>148460</td>\n      <td>1116</td>\n    </tr>\n    <tr>\n      <th>2</th>\n      <td>3</td>\n      <td>Palestine[note 3][99]</td>\n      <td>5223000</td>\n      <td>6025</td>\n      <td>867</td>\n    </tr>\n    <tr>\n      <th>3</th>\n      <td>4</td>\n      <td>Taiwan[note 4]</td>\n      <td>23580712</td>\n      <td>35980</td>\n      <td>655</td>\n    </tr>\n    <tr>\n      <th>4</th>\n      <td>5</td>\n      <td>South Korea</td>\n      <td>51844834</td>\n      <td>99720</td>\n      <td>520</td>\n    </tr>\n    <tr>\n      <th>5</th>\n      <td>6</td>\n      <td>Lebanon</td>\n      <td>5296814</td>\n      <td>10400</td>\n      <td>509</td>\n    </tr>\n    <tr>\n      <th>6</th>\n      <td>7</td>\n      <td>Rwanda</td>\n      <td>13173730</td>\n      <td>26338</td>\n      <td>500</td>\n    </tr>\n    <tr>\n      <th>7</th>\n      <td>8</td>\n      <td>Burundi</td>\n      <td>12696478</td>\n      <td>27830</td>\n      <td>456</td>\n    </tr>\n    <tr>\n      <th>8</th>\n      <td>9</td>\n      <td>Israel</td>\n      <td>9402617</td>\n      <td>21937</td>\n      <td>429</td>\n    </tr>\n    <tr>\n      <th>9</th>\n      <td>10</td>\n      <td>India</td>\n      <td>1389637446</td>\n      <td>3287263</td>\n      <td>423</td>\n    </tr>\n  </tbody>\n</table>\n</div>",
                        "text/plain": "   Rank                Country  Population  Area (km2)  Density (pop/km2)\n0     1              Singapore     5921231         719               8235\n1     2             Bangladesh   165650475      148460               1116\n2     3  Palestine[note 3][99]     5223000        6025                867\n3     4         Taiwan[note 4]    23580712       35980                655\n4     5            South Korea    51844834       99720                520\n5     6                Lebanon     5296814       10400                509\n6     7                 Rwanda    13173730       26338                500\n7     8                Burundi    12696478       27830                456\n8     9                 Israel     9402617       21937                429\n9    10                  India  1389637446     3287263                423"
                    },
                    "execution_count": 75,
                    "metadata": {},
                    "output_type": "execute_result"
                }
            ],
            "source": "pd.read_html(url, match=\"10 most densely populated countries\", flavor='bs4')[0]"
        },
        {
            "cell_type": "markdown",
            "metadata": {},
            "source": "## Authors\n"
        },
        {
            "cell_type": "markdown",
            "metadata": {},
            "source": "Ramesh Sannareddy\n"
        },
        {
            "cell_type": "markdown",
            "metadata": {},
            "source": "### Other Contributors\n"
        },
        {
            "cell_type": "markdown",
            "metadata": {},
            "source": "Rav Ahuja\n"
        },
        {
            "cell_type": "markdown",
            "metadata": {},
            "source": "\n"
        },
        {
            "cell_type": "markdown",
            "metadata": {},
            "source": "####  Copyright \u00a9 2020 IBM Corporation. This notebook and its source code are released under the terms of the [MIT License](https://cognitiveclass.ai/mit-license?utm_medium=Exinfluencer&amp;utm_source=Exinfluencer&amp;utm_content=000026UJ&amp;utm_term=10006555&amp;utm_id=NA-SkillsNetwork-Channel-SkillsNetworkCoursesIBMDeveloperSkillsNetworkPY0220ENSkillsNetwork23455606-2021-01-01&amp;cm_mmc=Email_Newsletter-\\_-Developer_Ed%2BTech-\\_-WW_WW-\\_-SkillsNetwork-Courses-IBMDeveloperSkillsNetwork-PY0101EN-SkillsNetwork-19487395&amp;cm_mmca1=000026UJ&amp;cm_mmca2=10006555&amp;cm_mmca3=M12345678&amp;cvosrc=email.Newsletter.M12345678&amp;cvo_campaign=000026UJ).\n"
        },
        {
            "cell_type": "code",
            "execution_count": null,
            "metadata": {
                "id": "0ddecf1c-e528-428a-a7ea-9ea89d1c3519"
            },
            "outputs": [],
            "source": ""
        },
        {
            "cell_type": "code",
            "execution_count": null,
            "metadata": {
                "id": "cc759925-9fdf-423b-b4c4-8e5cffc8e76e"
            },
            "outputs": [],
            "source": ""
        }
    ],
    "metadata": {
        "kernelspec": {
            "display_name": "Python 3.11",
            "language": "python",
            "name": "python3"
        },
        "language_info": {
            "codemirror_mode": {
                "name": "ipython",
                "version": 3
            },
            "file_extension": ".py",
            "mimetype": "text/x-python",
            "name": "python",
            "nbconvert_exporter": "python",
            "pygments_lexer": "ipython3",
            "version": "3.11.9"
        },
        "prev_pub_hash": "6ffb2388c98eac5a381e7d48f1205218b9072c996b92bd8519b6718b41da3fab"
    },
    "nbformat": 4,
    "nbformat_minor": 4
}